{
 "cells": [
  {
   "cell_type": "markdown",
   "id": "56600492",
   "metadata": {},
   "source": [
    "## 5. Hyperparameter optimization"
   ]
  },
  {
   "cell_type": "code",
   "execution_count": 3,
   "id": "ed90c04e",
   "metadata": {},
   "outputs": [],
   "source": [
    "import pandas as pd\n",
    "\n",
    "data = pd.read_csv('data/StudentPerformanceFactors.csv')\n",
    "\n",
    "X = data.drop(\"Exam_Score\", axis=1)\n",
    "Y = data['Exam_Score']\n",
    "\n",
    "from sklearn.model_selection import train_test_split\n",
    "\n",
    "X_train, X_test, Y_train, Y_test = train_test_split(X, Y, train_size=0.75)\n",
    "\n",
    "num_cols = X.select_dtypes(include=['int64', 'float64']).columns\n",
    "cat_cols = X.select_dtypes(include=['object', 'category']).columns\n",
    "\n",
    "from sklearn.pipeline import Pipeline\n",
    "from sklearn.impute import SimpleImputer\n",
    "from sklearn.preprocessing import StandardScaler\n",
    "\n",
    "num_pipeline = Pipeline([\n",
    "    ('imputer', SimpleImputer(strategy='median')),\n",
    "    ('scaler', StandardScaler())\n",
    "])\n",
    "\n",
    "from sklearn.preprocessing import OneHotEncoder\n",
    "\n",
    "cat_pipeline = Pipeline([\n",
    "    ('imputer', SimpleImputer(strategy='most_frequent')),\n",
    "    ('onehot', OneHotEncoder(handle_unknown='ignore'))\n",
    "])\n",
    "\n",
    "from sklearn.compose import ColumnTransformer\n",
    "\n",
    "preprocessor = ColumnTransformer([\n",
    "    ('num', num_pipeline, num_cols),\n",
    "    ('cat', cat_pipeline, cat_cols)\n",
    "])"
   ]
  },
  {
   "cell_type": "code",
   "execution_count": 20,
   "id": "c198b88c",
   "metadata": {},
   "outputs": [
    {
     "name": "stdout",
     "output_type": "stream",
     "text": [
      "RandomForest Best Params: {'regressor__max_depth': 15, 'regressor__min_samples_split': 10, 'regressor__n_estimators': 220}\n"
     ]
    }
   ],
   "source": [
    "from sklearn.ensemble import RandomForestRegressor\n",
    "from sklearn.neighbors import KNeighborsRegressor\n",
    "from sklearn.model_selection import GridSearchCV\n",
    "\n",
    "RFR = RandomForestRegressor(random_state=42)\n",
    "RFR_grid_search = RandomForestRegressor(random_state=42)\n",
    "KNN = KNeighborsRegressor()\n",
    "\n",
    "rfr_pipeline = Pipeline([\n",
    "    ('preprocessor', preprocessor),\n",
    "    ('regressor', RFR)\n",
    "])\n",
    "\n",
    "rfr_grid_search_pipeline = Pipeline([\n",
    "    ('preprocessor', preprocessor),\n",
    "    ('regressor', RFR_grid_search)\n",
    "])\n",
    "\n",
    "rfr_pipeline.fit(X_train, Y_train)\n",
    "\n",
    "rf_param_grid = {\n",
    "    'regressor__n_estimators': [170, 200, 220],\n",
    "    'regressor__max_depth': [12, 15, 18],\n",
    "    'regressor__min_samples_split': [7, 10, 18],\n",
    "}\n",
    "\n",
    "rf_grid = GridSearchCV(rfr_grid_search_pipeline, rf_param_grid, cv=5, scoring='r2', n_jobs=-1)\n",
    "rf_grid.fit(X_train, Y_train)\n",
    "\n",
    "print(\"RandomForest Best Params:\", rf_grid.best_params_)"
   ]
  },
  {
   "cell_type": "code",
   "execution_count": 21,
   "id": "a28f9995",
   "metadata": {},
   "outputs": [
    {
     "name": "stdout",
     "output_type": "stream",
     "text": [
      "0.9476122343079263\n",
      "0.6652971590099943\n",
      "0.8362169336877522\n",
      "0.6766308445627984\n"
     ]
    }
   ],
   "source": [
    "y_pred_rf = rfr_pipeline.predict(X_test)\n",
    "y_pred_rf_grid = rf_grid.predict(X_test)\n",
    "\n",
    "from sklearn.metrics import r2_score\n",
    "\n",
    "print(r2_score(Y_train, rfr_pipeline.predict(X_train)))\n",
    "print(r2_score(Y_test, y_pred_rf))\n",
    "\n",
    "print(r2_score(Y_train, rf_grid.predict(X_train)))\n",
    "print(r2_score(Y_test, y_pred_rf_grid))"
   ]
  },
  {
   "cell_type": "code",
   "execution_count": null,
   "id": "d0588bf9",
   "metadata": {},
   "outputs": [
    {
     "name": "stdout",
     "output_type": "stream",
     "text": [
      "KNN Best Params: {'regressor__n_neighbors': 13, 'regressor__p': 2, 'regressor__weights': 'distance'}\n"
     ]
    }
   ],
   "source": [
    "from sklearn.neighbors import KNeighborsRegressor\n",
    "\n",
    "KNN = KNeighborsRegressor()\n",
    "KNN_grid_search = KNeighborsRegressor()\n",
    "\n",
    "knn_pipeline = Pipeline([\n",
    "    ('preprocessor', preprocessor),\n",
    "    ('regressor', KNN)\n",
    "])\n",
    "\n",
    "knn_grid_search_pipeline = Pipeline([\n",
    "    ('preprocessor', preprocessor),\n",
    "    ('regressor', KNN_grid_search)\n",
    "])\n",
    "\n",
    "knn_pipeline.fit(X_train, Y_train)\n",
    "\n",
    "knn_param_grid = {\n",
    "    'regressor__n_neighbors': [9, 11, 13, 15, 17],\n",
    "    'regressor__weights': ['uniform', 'distance'],\n",
    "    'regressor__p': [1, 2]\n",
    "}\n",
    "\n",
    "knn_grid = GridSearchCV(knn_grid_search_pipeline, knn_param_grid, cv=5, scoring='r2', n_jobs=-1)\n",
    "knn_grid.fit(X_train, Y_train)\n",
    "\n",
    "print(\"KNN Best Params:\", knn_grid.best_params_)"
   ]
  },
  {
   "cell_type": "code",
   "execution_count": 27,
   "id": "a3935606",
   "metadata": {},
   "outputs": [
    {
     "name": "stdout",
     "output_type": "stream",
     "text": [
      "0.6704570445804028\n",
      "0.5468836693771812\n",
      "0.9999999999999978\n",
      "0.6002838077171371\n"
     ]
    }
   ],
   "source": [
    "y_pred_knn = knn_pipeline.predict(X_test)\n",
    "y_pred_knn_grid = knn_grid.predict(X_test)\n",
    "\n",
    "print(r2_score(Y_train, knn_pipeline.predict(X_train)))\n",
    "print(r2_score(Y_test, y_pred_knn))\n",
    "\n",
    "print(r2_score(Y_train, knn_grid.predict(X_train)))\n",
    "print(r2_score(Y_test, y_pred_knn_grid))"
   ]
  }
 ],
 "metadata": {
  "kernelspec": {
   "display_name": "projekt_msid",
   "language": "python",
   "name": "python3"
  },
  "language_info": {
   "codemirror_mode": {
    "name": "ipython",
    "version": 3
   },
   "file_extension": ".py",
   "mimetype": "text/x-python",
   "name": "python",
   "nbconvert_exporter": "python",
   "pygments_lexer": "ipython3",
   "version": "3.13.2"
  }
 },
 "nbformat": 4,
 "nbformat_minor": 5
}
