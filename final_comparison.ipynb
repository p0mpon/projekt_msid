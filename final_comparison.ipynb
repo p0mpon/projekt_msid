{
 "cells": [
  {
   "cell_type": "markdown",
   "id": "0ce34a7e",
   "metadata": {},
   "source": [
    "## All models compared to each other"
   ]
  },
  {
   "cell_type": "code",
   "execution_count": 84,
   "id": "d575663e",
   "metadata": {},
   "outputs": [],
   "source": [
    "import pandas as pd\n",
    "\n",
    "data = pd.read_csv('data/StudentPerformanceFactors.csv')\n",
    "\n",
    "X = data.drop(\"Exam_Score\", axis=1)\n",
    "Y = data['Exam_Score']\n",
    "\n",
    "from sklearn.model_selection import train_test_split\n",
    "\n",
    "X_train, X_test, Y_train, Y_test = train_test_split(X, Y, train_size=0.75)\n",
    "\n",
    "num_cols = X.select_dtypes(include=['int64', 'float64']).columns\n",
    "cat_cols = X.select_dtypes(include=['object', 'category']).columns\n",
    "\n",
    "from sklearn.pipeline import Pipeline\n",
    "from sklearn.impute import SimpleImputer\n",
    "from sklearn.preprocessing import StandardScaler\n",
    "\n",
    "num_pipeline = Pipeline([\n",
    "    ('imputer', SimpleImputer(strategy='median')),\n",
    "    ('scaler', StandardScaler())\n",
    "])\n",
    "\n",
    "from sklearn.preprocessing import OneHotEncoder\n",
    "\n",
    "cat_pipeline = Pipeline([\n",
    "    ('imputer', SimpleImputer(strategy='most_frequent')),\n",
    "    ('onehot', OneHotEncoder(handle_unknown='ignore'))\n",
    "])\n",
    "\n",
    "from sklearn.compose import ColumnTransformer\n",
    "\n",
    "preprocessor = ColumnTransformer([\n",
    "    ('num', num_pipeline, num_cols),\n",
    "    ('cat', cat_pipeline, cat_cols)\n",
    "])"
   ]
  },
  {
   "cell_type": "markdown",
   "id": "4936d0b5",
   "metadata": {},
   "source": [
    "### Models\n",
    "#### Linear Regression"
   ]
  },
  {
   "cell_type": "code",
   "execution_count": 85,
   "id": "75709818",
   "metadata": {},
   "outputs": [],
   "source": [
    "from sklearn.linear_model import LinearRegression\n",
    "\n",
    "sklearn_LR_pipeline = Pipeline([\n",
    "    ('preprocessor', preprocessor),\n",
    "    ('regressor', LinearRegression())\n",
    "])\n",
    "\n",
    "sklearn_LR_pipeline.fit(X_train, Y_train)\n",
    "\n",
    "y_pred_lr_skl = sklearn_LR_pipeline.predict(X_test)\n",
    "\n",
    "names = ['Linear Regression (sklearn)']\n",
    "y_predictions = [y_pred_lr_skl]"
   ]
  },
  {
   "cell_type": "markdown",
   "id": "ebbcaa04",
   "metadata": {},
   "source": [
    "#### Linear Regression less features (12)"
   ]
  },
  {
   "cell_type": "code",
   "execution_count": 86,
   "id": "064c1b94",
   "metadata": {},
   "outputs": [],
   "source": [
    "from sklearn.feature_selection import SelectKBest, f_regression\n",
    "\n",
    "small_pipeline = Pipeline([\n",
    "    ('preprocessor', preprocessor),\n",
    "    ('selector', SelectKBest(score_func=f_regression, k=12)),\n",
    "    ('regressor', LinearRegression())\n",
    "])\n",
    "\n",
    "small_pipeline.fit(X_train, Y_train)\n",
    "\n",
    "y_pred_small = small_pipeline.predict(X_test)\n",
    "\n",
    "names.append('Linear Regression SelectKBest')\n",
    "y_predictions.append(y_pred_small)"
   ]
  },
  {
   "cell_type": "markdown",
   "id": "2195305f",
   "metadata": {},
   "source": [
    "#### Linear Regression Polynomial Features"
   ]
  },
  {
   "cell_type": "code",
   "execution_count": 87,
   "id": "9985b286",
   "metadata": {},
   "outputs": [],
   "source": [
    "from sklearn.preprocessing import PolynomialFeatures\n",
    "\n",
    "poly_pipeline = Pipeline([\n",
    "    ('preprocessor', preprocessor),\n",
    "    ('poly', PolynomialFeatures(degree=2)),\n",
    "    ('regressor', LinearRegression())\n",
    "])\n",
    "\n",
    "poly_pipeline.fit(X_train, Y_train)\n",
    "\n",
    "y_pred_poly = poly_pipeline.predict(X_test)\n",
    "\n",
    "names.append('Polynomial Features')\n",
    "y_predictions.append(y_pred_poly)"
   ]
  },
  {
   "cell_type": "markdown",
   "id": "9fe77b31",
   "metadata": {},
   "source": [
    "#### Lasso"
   ]
  },
  {
   "cell_type": "code",
   "execution_count": 88,
   "id": "0c32505c",
   "metadata": {},
   "outputs": [
    {
     "name": "stdout",
     "output_type": "stream",
     "text": [
      "Lasso Best Params: {'regressor__alpha': np.float64(0.0031622776601683794)}\n"
     ]
    }
   ],
   "source": [
    "from sklearn.linear_model import Lasso\n",
    "\n",
    "L1_pipeline = Pipeline([\n",
    "    ('preprocessor', preprocessor),\n",
    "    ('regressor', Lasso())\n",
    "])\n",
    "\n",
    "from sklearn.model_selection import GridSearchCV\n",
    "import numpy as np\n",
    "\n",
    "L1_param_grid = {\n",
    "    'regressor__alpha': np.logspace(-5, -1, 9)\n",
    "}\n",
    "\n",
    "l1_grid = GridSearchCV(L1_pipeline, L1_param_grid, cv=5, scoring='r2', n_jobs=-1)\n",
    "l1_grid.fit(X_train, Y_train)\n",
    "\n",
    "print(\"Lasso Best Params:\", l1_grid.best_params_)\n",
    "\n",
    "y_pred_l1 = l1_grid.predict(X_test)\n",
    "\n",
    "names.append('Lasso')\n",
    "y_predictions.append(y_pred_l1)"
   ]
  },
  {
   "cell_type": "markdown",
   "id": "2db97e1a",
   "metadata": {},
   "source": [
    "#### Ridge"
   ]
  },
  {
   "cell_type": "code",
   "execution_count": 89,
   "id": "0a559c8c",
   "metadata": {},
   "outputs": [
    {
     "name": "stdout",
     "output_type": "stream",
     "text": [
      "Ridge Best Params: {'regressor__alpha': np.float64(10.0)}\n"
     ]
    }
   ],
   "source": [
    "from sklearn.linear_model import Ridge\n",
    "\n",
    "L2_pipeline = Pipeline([\n",
    "    ('preprocessor', preprocessor),\n",
    "    ('regressor', Ridge())\n",
    "])\n",
    "\n",
    "L2_param_grid = {\n",
    "    'regressor__alpha': np.linspace(1, 10, 10)\n",
    "}\n",
    "\n",
    "l2_grid = GridSearchCV(L2_pipeline, L2_param_grid, cv=5, scoring='r2', n_jobs=-1)\n",
    "l2_grid.fit(X_train, Y_train)\n",
    "\n",
    "print(\"Ridge Best Params:\", l2_grid.best_params_)\n",
    "\n",
    "y_pred_l2 = l2_grid.predict(X_test)\n",
    "\n",
    "names.append('Ridge')\n",
    "y_predictions.append(y_pred_l2)"
   ]
  },
  {
   "cell_type": "markdown",
   "id": "6a0d82cb",
   "metadata": {},
   "source": [
    "#### Linear Regression closed form solution"
   ]
  },
  {
   "cell_type": "code",
   "execution_count": 90,
   "id": "6604ad1b",
   "metadata": {},
   "outputs": [],
   "source": [
    "from src.linear_regression.models import LinearRegressionClosedForm\n",
    "\n",
    "closed_form_pipeline = Pipeline([\n",
    "    ('preprocessor', preprocessor),\n",
    "    ('regressor', LinearRegressionClosedForm())\n",
    "])\n",
    "\n",
    "closed_form_pipeline.fit(X_train, Y_train)\n",
    "\n",
    "y_pred_lr_cf = closed_form_pipeline.predict(X_test)\n",
    "\n",
    "names.append('Closed Form Solution')\n",
    "y_predictions.append(y_pred_lr_cf)"
   ]
  },
  {
   "cell_type": "markdown",
   "id": "3bd9f579",
   "metadata": {},
   "source": [
    "#### Linear Regression closed form solution WITH L2 regularization"
   ]
  },
  {
   "cell_type": "code",
   "execution_count": 91,
   "id": "3ed7ad9d",
   "metadata": {},
   "outputs": [],
   "source": [
    "cf_LR_L2_pipeline = Pipeline([\n",
    "    ('preprocessor', preprocessor),\n",
    "    ('regressor', LinearRegressionClosedForm(regularization=True, alpha=0.1))\n",
    "])\n",
    "\n",
    "cf_LR_L2_pipeline.fit(X_train, Y_train)\n",
    "\n",
    "y_pred_cf_l1 = cf_LR_L2_pipeline.predict(X_test)\n",
    "\n",
    "names.append('Closed Form Solution with L2')\n",
    "y_predictions.append(y_pred_cf_l1)"
   ]
  },
  {
   "cell_type": "markdown",
   "id": "d713092a",
   "metadata": {},
   "source": [
    "#### Linear Regression gradient descent"
   ]
  },
  {
   "cell_type": "code",
   "execution_count": 92,
   "id": "41ea6a62",
   "metadata": {},
   "outputs": [],
   "source": [
    "from src.linear_regression.models import LinearRegressionGradientDescent\n",
    "\n",
    "gradient_descent_pipeline = Pipeline([\n",
    "    ('preprocessor', preprocessor),\n",
    "    ('regressor', LinearRegressionGradientDescent())\n",
    "])\n",
    "\n",
    "gradient_descent_pipeline.fit(X_train, Y_train)\n",
    "\n",
    "y_pred_lr_gd = gradient_descent_pipeline.predict(X_test)\n",
    "\n",
    "names.append('Gradient Descent')\n",
    "y_predictions.append(y_pred_lr_gd)"
   ]
  },
  {
   "cell_type": "markdown",
   "id": "4c70fff9",
   "metadata": {},
   "source": [
    "#### Linear Regression gradient descent WITH L1 regularization"
   ]
  },
  {
   "cell_type": "code",
   "execution_count": 93,
   "id": "83bdf4d0",
   "metadata": {},
   "outputs": [],
   "source": [
    "gd_l1_pipeline = Pipeline([\n",
    "    ('preprocessor', preprocessor),\n",
    "    ('regressor', LinearRegressionGradientDescent(regularization='l1', alpha=0.005))\n",
    "])\n",
    "\n",
    "gd_l1_pipeline.fit(X_train, Y_train)\n",
    "\n",
    "y_pred_gd_l1 = gd_l1_pipeline.predict(X_test)\n",
    "\n",
    "names.append('Gradient Descent L1')\n",
    "y_predictions.append(y_pred_gd_l1)"
   ]
  },
  {
   "cell_type": "markdown",
   "id": "cfaa6572",
   "metadata": {},
   "source": [
    "#### Linear Regression gradient descent WITH L2 regularization"
   ]
  },
  {
   "cell_type": "code",
   "execution_count": 94,
   "id": "7471d2e0",
   "metadata": {},
   "outputs": [],
   "source": [
    "gd_l2_pipeline = Pipeline([\n",
    "    ('preprocessor', preprocessor),\n",
    "    ('regressor', LinearRegressionGradientDescent(regularization='l2', alpha=0.0005))\n",
    "])\n",
    "\n",
    "gd_l2_pipeline.fit(X_train, Y_train)\n",
    "\n",
    "y_pred_gd_l2 = gd_l2_pipeline.predict(X_test)\n",
    "\n",
    "names.append('Gradient Descent L2')\n",
    "y_predictions.append(y_pred_gd_l2)"
   ]
  },
  {
   "cell_type": "markdown",
   "id": "c4555562",
   "metadata": {},
   "source": [
    "#### Linear Regression gradient descent WITH both L1 and L2"
   ]
  },
  {
   "cell_type": "code",
   "execution_count": 95,
   "id": "614328b5",
   "metadata": {},
   "outputs": [],
   "source": [
    "gd_en_pipeline = Pipeline([\n",
    "    ('preprocessor', preprocessor),\n",
    "    ('regressor', LinearRegressionGradientDescent(regularization='elasticnet', alpha=0.001))\n",
    "])\n",
    "\n",
    "gd_en_pipeline.fit(X_train, Y_train)\n",
    "\n",
    "y_pred_gd_en = gd_en_pipeline.predict(X_test)\n",
    "\n",
    "names.append('Gradient Descent L1 and L2')\n",
    "y_predictions.append(y_pred_gd_en)"
   ]
  },
  {
   "cell_type": "markdown",
   "id": "e808e056",
   "metadata": {},
   "source": [
    "#### Support Vector Regression (grid search)"
   ]
  },
  {
   "cell_type": "code",
   "execution_count": 96,
   "id": "25c11e30",
   "metadata": {},
   "outputs": [],
   "source": [
    "from sklearn.svm import SVR\n",
    "\n",
    "SVR_grid_search = SVR()\n",
    "\n",
    "svr_pipeline = Pipeline([\n",
    "    ('preprocessor', preprocessor),\n",
    "    ('regressor', SVR_grid_search)\n",
    "])\n",
    "\n",
    "svr_param_grid = {\n",
    "    'regressor__C': [0.1, 1, 5, 10, 20],\n",
    "    'regressor__epsilon': [0.05, 0.1, 0.5],\n",
    "    'regressor__gamma': ['scale', 0.01, 0.1]\n",
    "}\n",
    "\n",
    "svr_grid = GridSearchCV(svr_pipeline, svr_param_grid, cv=5, scoring='r2', n_jobs=-1)\n",
    "svr_grid.fit(X_train, Y_train)\n",
    "\n",
    "y_pred_svr_grid = svr_grid.predict(X_test)"
   ]
  },
  {
   "cell_type": "code",
   "execution_count": 97,
   "id": "b846d8e5",
   "metadata": {},
   "outputs": [
    {
     "name": "stdout",
     "output_type": "stream",
     "text": [
      "{'regressor__C': 5, 'regressor__epsilon': 0.5, 'regressor__gamma': 0.01}\n"
     ]
    }
   ],
   "source": [
    "print(svr_grid.best_params_)\n",
    "\n",
    "names.append('Support Vector Regression')\n",
    "y_predictions.append(y_pred_svr_grid)"
   ]
  },
  {
   "cell_type": "markdown",
   "id": "a38a4397",
   "metadata": {},
   "source": [
    "#### Random Forest Regression (grid search)"
   ]
  },
  {
   "cell_type": "code",
   "execution_count": 98,
   "id": "4a93a549",
   "metadata": {},
   "outputs": [],
   "source": [
    "from sklearn.ensemble import RandomForestRegressor\n",
    "\n",
    "RFR_grid_search = RandomForestRegressor(random_state=42)\n",
    "\n",
    "rfr_pipeline = Pipeline([\n",
    "    ('preprocessor', preprocessor),\n",
    "    ('regressor', RFR_grid_search)\n",
    "])\n",
    "\n",
    "rf_param_grid = {\n",
    "    'regressor__n_estimators': [100, 200, 300],\n",
    "    'regressor__max_depth': [15, 20, 25],\n",
    "    'regressor__min_samples_split': [7, 10, 18],\n",
    "    'regressor__max_features': ['sqrt', 0.5, 1]\n",
    "}\n",
    "\n",
    "rf_grid = GridSearchCV(rfr_pipeline, rf_param_grid, cv=5, scoring='r2', n_jobs=-1)\n",
    "rf_grid.fit(X_train, Y_train)\n",
    "\n",
    "y_pred_rf_grid = rf_grid.predict(X_test)"
   ]
  },
  {
   "cell_type": "code",
   "execution_count": 99,
   "id": "a3788950",
   "metadata": {},
   "outputs": [
    {
     "name": "stdout",
     "output_type": "stream",
     "text": [
      "{'regressor__max_depth': 20, 'regressor__max_features': 0.5, 'regressor__min_samples_split': 7, 'regressor__n_estimators': 300}\n"
     ]
    }
   ],
   "source": [
    "names.append('Random Forest Regression')\n",
    "y_predictions.append(y_pred_rf_grid)\n",
    "\n",
    "print(rf_grid.best_params_)"
   ]
  },
  {
   "cell_type": "markdown",
   "id": "489517fc",
   "metadata": {},
   "source": [
    "### Evaluation"
   ]
  },
  {
   "cell_type": "code",
   "execution_count": 100,
   "id": "61f1a504",
   "metadata": {},
   "outputs": [
    {
     "data": {
      "text/html": [
       "<div>\n",
       "<style scoped>\n",
       "    .dataframe tbody tr th:only-of-type {\n",
       "        vertical-align: middle;\n",
       "    }\n",
       "\n",
       "    .dataframe tbody tr th {\n",
       "        vertical-align: top;\n",
       "    }\n",
       "\n",
       "    .dataframe thead th {\n",
       "        text-align: right;\n",
       "    }\n",
       "</style>\n",
       "<table border=\"1\" class=\"dataframe\">\n",
       "  <thead>\n",
       "    <tr style=\"text-align: right;\">\n",
       "      <th></th>\n",
       "      <th>R²</th>\n",
       "      <th>MSE</th>\n",
       "      <th>RMSE</th>\n",
       "      <th>MAE</th>\n",
       "    </tr>\n",
       "  </thead>\n",
       "  <tbody>\n",
       "    <tr>\n",
       "      <th>Support Vector Regression</th>\n",
       "      <td>0.770509</td>\n",
       "      <td>3.376619</td>\n",
       "      <td>1.837558</td>\n",
       "      <td>0.426594</td>\n",
       "    </tr>\n",
       "    <tr>\n",
       "      <th>Closed Form Solution with L2</th>\n",
       "      <td>0.769846</td>\n",
       "      <td>3.386375</td>\n",
       "      <td>1.840211</td>\n",
       "      <td>0.462682</td>\n",
       "    </tr>\n",
       "    <tr>\n",
       "      <th>Closed Form Solution</th>\n",
       "      <td>0.769843</td>\n",
       "      <td>3.386426</td>\n",
       "      <td>1.840224</td>\n",
       "      <td>0.462822</td>\n",
       "    </tr>\n",
       "    <tr>\n",
       "      <th>Linear Regression (sklearn)</th>\n",
       "      <td>0.769843</td>\n",
       "      <td>3.386426</td>\n",
       "      <td>1.840224</td>\n",
       "      <td>0.462822</td>\n",
       "    </tr>\n",
       "    <tr>\n",
       "      <th>Ridge</th>\n",
       "      <td>0.769830</td>\n",
       "      <td>3.386616</td>\n",
       "      <td>1.840276</td>\n",
       "      <td>0.463101</td>\n",
       "    </tr>\n",
       "    <tr>\n",
       "      <th>Lasso</th>\n",
       "      <td>0.769824</td>\n",
       "      <td>3.386705</td>\n",
       "      <td>1.840300</td>\n",
       "      <td>0.463921</td>\n",
       "    </tr>\n",
       "    <tr>\n",
       "      <th>Gradient Descent</th>\n",
       "      <td>0.769726</td>\n",
       "      <td>3.388145</td>\n",
       "      <td>1.840691</td>\n",
       "      <td>0.455645</td>\n",
       "    </tr>\n",
       "    <tr>\n",
       "      <th>Gradient Descent L1 and L2</th>\n",
       "      <td>0.769675</td>\n",
       "      <td>3.388901</td>\n",
       "      <td>1.840897</td>\n",
       "      <td>0.459215</td>\n",
       "    </tr>\n",
       "    <tr>\n",
       "      <th>Gradient Descent L1</th>\n",
       "      <td>0.769459</td>\n",
       "      <td>3.392073</td>\n",
       "      <td>1.841758</td>\n",
       "      <td>0.482052</td>\n",
       "    </tr>\n",
       "    <tr>\n",
       "      <th>Gradient Descent L2</th>\n",
       "      <td>0.768425</td>\n",
       "      <td>3.407292</td>\n",
       "      <td>1.845885</td>\n",
       "      <td>0.495435</td>\n",
       "    </tr>\n",
       "    <tr>\n",
       "      <th>Polynomial Features</th>\n",
       "      <td>0.745991</td>\n",
       "      <td>3.737370</td>\n",
       "      <td>1.933228</td>\n",
       "      <td>0.683567</td>\n",
       "    </tr>\n",
       "    <tr>\n",
       "      <th>Linear Regression SelectKBest</th>\n",
       "      <td>0.721800</td>\n",
       "      <td>4.093313</td>\n",
       "      <td>2.023194</td>\n",
       "      <td>0.859884</td>\n",
       "    </tr>\n",
       "    <tr>\n",
       "      <th>Random Forest Regression</th>\n",
       "      <td>0.686079</td>\n",
       "      <td>4.618889</td>\n",
       "      <td>2.149160</td>\n",
       "      <td>1.060866</td>\n",
       "    </tr>\n",
       "  </tbody>\n",
       "</table>\n",
       "</div>"
      ],
      "text/plain": [
       "                                     R²       MSE      RMSE       MAE\n",
       "Support Vector Regression      0.770509  3.376619  1.837558  0.426594\n",
       "Closed Form Solution with L2   0.769846  3.386375  1.840211  0.462682\n",
       "Closed Form Solution           0.769843  3.386426  1.840224  0.462822\n",
       "Linear Regression (sklearn)    0.769843  3.386426  1.840224  0.462822\n",
       "Ridge                          0.769830  3.386616  1.840276  0.463101\n",
       "Lasso                          0.769824  3.386705  1.840300  0.463921\n",
       "Gradient Descent               0.769726  3.388145  1.840691  0.455645\n",
       "Gradient Descent L1 and L2     0.769675  3.388901  1.840897  0.459215\n",
       "Gradient Descent L1            0.769459  3.392073  1.841758  0.482052\n",
       "Gradient Descent L2            0.768425  3.407292  1.845885  0.495435\n",
       "Polynomial Features            0.745991  3.737370  1.933228  0.683567\n",
       "Linear Regression SelectKBest  0.721800  4.093313  2.023194  0.859884\n",
       "Random Forest Regression       0.686079  4.618889  2.149160  1.060866"
      ]
     },
     "metadata": {},
     "output_type": "display_data"
    }
   ],
   "source": [
    "from src.linear_regression.model_evaluation import metrics_table\n",
    "\n",
    "df_metrics = metrics_table(Y_test, y_predictions, names)\n",
    "df_sorted = df_metrics.sort_values(by='R²', ascending=False)\n",
    "\n",
    "display(df_sorted)"
   ]
  },
  {
   "cell_type": "markdown",
   "id": "924fcb74",
   "metadata": {},
   "source": [
    "#### Cross-validation"
   ]
  },
  {
   "cell_type": "code",
   "execution_count": 101,
   "id": "067dff1f",
   "metadata": {},
   "outputs": [],
   "source": [
    "from sklearn.model_selection import cross_validate, KFold\n",
    "\n",
    "kfold = KFold(n_splits=3, shuffle=True, random_state=42)\n",
    "\n",
    "estimators = [sklearn_LR_pipeline,\n",
    "              small_pipeline,\n",
    "              poly_pipeline,\n",
    "              l1_grid.best_estimator_,\n",
    "              l2_grid.best_estimator_,\n",
    "              closed_form_pipeline,\n",
    "              cf_LR_L2_pipeline,\n",
    "              gradient_descent_pipeline,\n",
    "              gd_l1_pipeline,\n",
    "              gd_l2_pipeline,\n",
    "              gd_en_pipeline,\n",
    "              svr_grid.best_estimator_,\n",
    "              rf_grid.best_estimator_]\n",
    "\n",
    "cross_vals = []\n",
    "\n",
    "for estimator in estimators:\n",
    "    cross_val = cross_validate(estimator, X_train, Y_train, cv=kfold,\n",
    "                              scoring=('r2', 'neg_mean_squared_error', 'neg_mean_absolute_error'),\n",
    "                              return_train_score=True)\n",
    "    cross_vals.append(cross_val)"
   ]
  },
  {
   "cell_type": "code",
   "execution_count": 102,
   "id": "3ee9e38c",
   "metadata": {},
   "outputs": [
    {
     "data": {
      "text/html": [
       "<div>\n",
       "<style scoped>\n",
       "    .dataframe tbody tr th:only-of-type {\n",
       "        vertical-align: middle;\n",
       "    }\n",
       "\n",
       "    .dataframe tbody tr th {\n",
       "        vertical-align: top;\n",
       "    }\n",
       "\n",
       "    .dataframe thead th {\n",
       "        text-align: right;\n",
       "    }\n",
       "</style>\n",
       "<table border=\"1\" class=\"dataframe\">\n",
       "  <thead>\n",
       "    <tr style=\"text-align: right;\">\n",
       "      <th></th>\n",
       "      <th>R² (test)</th>\n",
       "      <th>R² (train)</th>\n",
       "      <th>R² difference</th>\n",
       "      <th>MSE (test)</th>\n",
       "      <th>MAE (test)</th>\n",
       "    </tr>\n",
       "  </thead>\n",
       "  <tbody>\n",
       "    <tr>\n",
       "      <th>Lasso</th>\n",
       "      <td>0.713839</td>\n",
       "      <td>0.714915</td>\n",
       "      <td>0.001077</td>\n",
       "      <td>4.435688</td>\n",
       "      <td>0.517689</td>\n",
       "    </tr>\n",
       "    <tr>\n",
       "      <th>Ridge</th>\n",
       "      <td>0.713824</td>\n",
       "      <td>0.714966</td>\n",
       "      <td>0.001142</td>\n",
       "      <td>4.435911</td>\n",
       "      <td>0.516887</td>\n",
       "    </tr>\n",
       "    <tr>\n",
       "      <th>Linear Regression (sklearn)</th>\n",
       "      <td>0.713811</td>\n",
       "      <td>0.714995</td>\n",
       "      <td>0.001184</td>\n",
       "      <td>4.436119</td>\n",
       "      <td>0.516727</td>\n",
       "    </tr>\n",
       "    <tr>\n",
       "      <th>Closed Form Solution with L2</th>\n",
       "      <td>0.713811</td>\n",
       "      <td>0.714995</td>\n",
       "      <td>0.001184</td>\n",
       "      <td>4.436116</td>\n",
       "      <td>0.516537</td>\n",
       "    </tr>\n",
       "    <tr>\n",
       "      <th>Closed Form Solution</th>\n",
       "      <td>0.713811</td>\n",
       "      <td>0.714995</td>\n",
       "      <td>0.001184</td>\n",
       "      <td>4.436119</td>\n",
       "      <td>0.516727</td>\n",
       "    </tr>\n",
       "    <tr>\n",
       "      <th>Gradient Descent L1 and L2</th>\n",
       "      <td>0.713696</td>\n",
       "      <td>0.714846</td>\n",
       "      <td>0.001150</td>\n",
       "      <td>4.437544</td>\n",
       "      <td>0.531191</td>\n",
       "    </tr>\n",
       "    <tr>\n",
       "      <th>Gradient Descent L2</th>\n",
       "      <td>0.713674</td>\n",
       "      <td>0.714886</td>\n",
       "      <td>0.001212</td>\n",
       "      <td>4.437942</td>\n",
       "      <td>0.524966</td>\n",
       "    </tr>\n",
       "    <tr>\n",
       "      <th>Gradient Descent L1</th>\n",
       "      <td>0.713612</td>\n",
       "      <td>0.714709</td>\n",
       "      <td>0.001096</td>\n",
       "      <td>4.439915</td>\n",
       "      <td>0.499481</td>\n",
       "    </tr>\n",
       "    <tr>\n",
       "      <th>Gradient Descent</th>\n",
       "      <td>0.712859</td>\n",
       "      <td>0.714460</td>\n",
       "      <td>0.001601</td>\n",
       "      <td>4.451293</td>\n",
       "      <td>0.511510</td>\n",
       "    </tr>\n",
       "    <tr>\n",
       "      <th>Support Vector Regression</th>\n",
       "      <td>0.712739</td>\n",
       "      <td>0.712480</td>\n",
       "      <td>-0.000260</td>\n",
       "      <td>4.452913</td>\n",
       "      <td>0.469717</td>\n",
       "    </tr>\n",
       "    <tr>\n",
       "      <th>Linear Regression SelectKBest</th>\n",
       "      <td>0.670420</td>\n",
       "      <td>0.672479</td>\n",
       "      <td>0.002059</td>\n",
       "      <td>5.092364</td>\n",
       "      <td>0.898603</td>\n",
       "    </tr>\n",
       "    <tr>\n",
       "      <th>Polynomial Features</th>\n",
       "      <td>0.660727</td>\n",
       "      <td>0.749438</td>\n",
       "      <td>0.088711</td>\n",
       "      <td>5.241602</td>\n",
       "      <td>0.857676</td>\n",
       "    </tr>\n",
       "    <tr>\n",
       "      <th>Random Forest Regression</th>\n",
       "      <td>0.630695</td>\n",
       "      <td>0.864469</td>\n",
       "      <td>0.233774</td>\n",
       "      <td>5.691957</td>\n",
       "      <td>1.121069</td>\n",
       "    </tr>\n",
       "  </tbody>\n",
       "</table>\n",
       "</div>"
      ],
      "text/plain": [
       "                               R² (test)  R² (train)  R² difference  \\\n",
       "Lasso                           0.713839    0.714915       0.001077   \n",
       "Ridge                           0.713824    0.714966       0.001142   \n",
       "Linear Regression (sklearn)     0.713811    0.714995       0.001184   \n",
       "Closed Form Solution with L2    0.713811    0.714995       0.001184   \n",
       "Closed Form Solution            0.713811    0.714995       0.001184   \n",
       "Gradient Descent L1 and L2      0.713696    0.714846       0.001150   \n",
       "Gradient Descent L2             0.713674    0.714886       0.001212   \n",
       "Gradient Descent L1             0.713612    0.714709       0.001096   \n",
       "Gradient Descent                0.712859    0.714460       0.001601   \n",
       "Support Vector Regression       0.712739    0.712480      -0.000260   \n",
       "Linear Regression SelectKBest   0.670420    0.672479       0.002059   \n",
       "Polynomial Features             0.660727    0.749438       0.088711   \n",
       "Random Forest Regression        0.630695    0.864469       0.233774   \n",
       "\n",
       "                               MSE (test)  MAE (test)  \n",
       "Lasso                            4.435688    0.517689  \n",
       "Ridge                            4.435911    0.516887  \n",
       "Linear Regression (sklearn)      4.436119    0.516727  \n",
       "Closed Form Solution with L2     4.436116    0.516537  \n",
       "Closed Form Solution             4.436119    0.516727  \n",
       "Gradient Descent L1 and L2       4.437544    0.531191  \n",
       "Gradient Descent L2              4.437942    0.524966  \n",
       "Gradient Descent L1              4.439915    0.499481  \n",
       "Gradient Descent                 4.451293    0.511510  \n",
       "Support Vector Regression        4.452913    0.469717  \n",
       "Linear Regression SelectKBest    5.092364    0.898603  \n",
       "Polynomial Features              5.241602    0.857676  \n",
       "Random Forest Regression         5.691957    1.121069  "
      ]
     },
     "metadata": {},
     "output_type": "display_data"
    }
   ],
   "source": [
    "metrics = ['R² (test)', 'R² (train)', 'R² difference', 'MSE (test)', 'MAE (test)']\n",
    "\n",
    "results = {\n",
    "    name: [\n",
    "        np.mean(cross_val['test_r2']),\n",
    "        np.mean(cross_val['train_r2']),\n",
    "        np.mean(cross_val['train_r2']) - np.mean(cross_val['test_r2']),\n",
    "        -np.mean(cross_val['test_neg_mean_squared_error']),\n",
    "        -np.mean(cross_val['test_neg_mean_absolute_error'])\n",
    "    ]\n",
    "    for (name, cross_val) in zip(names, cross_vals) \n",
    "}\n",
    "\n",
    "df_cross_val = pd.DataFrame(results, index=metrics).T.round(6)\n",
    "df_sorted_cross_val = df_cross_val.sort_values(by='R² (test)', ascending=False)\n",
    "\n",
    "display(df_sorted_cross_val)"
   ]
  }
 ],
 "metadata": {
  "kernelspec": {
   "display_name": "projekt_msid",
   "language": "python",
   "name": "python3"
  },
  "language_info": {
   "codemirror_mode": {
    "name": "ipython",
    "version": 3
   },
   "file_extension": ".py",
   "mimetype": "text/x-python",
   "name": "python",
   "nbconvert_exporter": "python",
   "pygments_lexer": "ipython3",
   "version": "3.13.2"
  }
 },
 "nbformat": 4,
 "nbformat_minor": 5
}
