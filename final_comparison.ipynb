{
 "cells": [
  {
   "cell_type": "markdown",
   "id": "0ce34a7e",
   "metadata": {},
   "source": [
    "## All models compared to each other"
   ]
  },
  {
   "cell_type": "code",
   "execution_count": 20,
   "id": "d575663e",
   "metadata": {},
   "outputs": [],
   "source": [
    "import pandas as pd\n",
    "\n",
    "data = pd.read_csv('data/StudentPerformanceFactors.csv')\n",
    "\n",
    "X = data.drop(\"Exam_Score\", axis=1)\n",
    "Y = data['Exam_Score']\n",
    "\n",
    "from sklearn.model_selection import train_test_split\n",
    "\n",
    "X_train, X_test, Y_train, Y_test = train_test_split(X, Y, train_size=0.75)\n",
    "\n",
    "num_cols = X.select_dtypes(include=['int64', 'float64']).columns\n",
    "cat_cols = X.select_dtypes(include=['object', 'category']).columns\n",
    "\n",
    "from sklearn.pipeline import Pipeline\n",
    "from sklearn.impute import SimpleImputer\n",
    "from sklearn.preprocessing import StandardScaler\n",
    "\n",
    "num_pipeline = Pipeline([\n",
    "    ('imputer', SimpleImputer(strategy='median')),\n",
    "    ('scaler', StandardScaler())\n",
    "])\n",
    "\n",
    "from sklearn.preprocessing import OneHotEncoder\n",
    "\n",
    "cat_pipeline = Pipeline([\n",
    "    ('imputer', SimpleImputer(strategy='most_frequent')),\n",
    "    ('onehot', OneHotEncoder(handle_unknown='ignore'))\n",
    "])\n",
    "\n",
    "from sklearn.compose import ColumnTransformer\n",
    "\n",
    "preprocessor = ColumnTransformer([\n",
    "    ('num', num_pipeline, num_cols),\n",
    "    ('cat', cat_pipeline, cat_cols)\n",
    "])"
   ]
  },
  {
   "cell_type": "markdown",
   "id": "4936d0b5",
   "metadata": {},
   "source": [
    "### Models\n",
    "#### Linear Regression"
   ]
  },
  {
   "cell_type": "code",
   "execution_count": 21,
   "id": "75709818",
   "metadata": {},
   "outputs": [],
   "source": [
    "from sklearn.linear_model import LinearRegression\n",
    "\n",
    "sklearn_LR_pipeline = Pipeline([\n",
    "    ('preprocessor', preprocessor),\n",
    "    ('regressor', LinearRegression())\n",
    "])\n",
    "\n",
    "sklearn_LR_pipeline.fit(X_train, Y_train)\n",
    "\n",
    "y_pred_lr_skl = sklearn_LR_pipeline.predict(X_test)\n",
    "\n",
    "names = ['Linear Regression (sklearn)']\n",
    "y_predictions = [y_pred_lr_skl]"
   ]
  },
  {
   "cell_type": "markdown",
   "id": "ebbcaa04",
   "metadata": {},
   "source": [
    "#### Linear Regression less features (12)"
   ]
  },
  {
   "cell_type": "code",
   "execution_count": 86,
   "id": "064c1b94",
   "metadata": {},
   "outputs": [],
   "source": [
    "from sklearn.feature_selection import SelectKBest, f_regression\n",
    "\n",
    "small_pipeline = Pipeline([\n",
    "    ('preprocessor', preprocessor),\n",
    "    ('selector', SelectKBest(score_func=f_regression, k=12)),\n",
    "    ('regressor', LinearRegression())\n",
    "])\n",
    "\n",
    "small_pipeline.fit(X_train, Y_train)\n",
    "\n",
    "y_pred_small = small_pipeline.predict(X_test)\n",
    "\n",
    "names.append('Linear Regression SelectKBest')\n",
    "y_predictions.append(y_pred_small)"
   ]
  },
  {
   "cell_type": "markdown",
   "id": "2195305f",
   "metadata": {},
   "source": [
    "#### Linear Regression Polynomial Features"
   ]
  },
  {
   "cell_type": "code",
   "execution_count": 87,
   "id": "9985b286",
   "metadata": {},
   "outputs": [],
   "source": [
    "from sklearn.preprocessing import PolynomialFeatures\n",
    "\n",
    "poly_pipeline = Pipeline([\n",
    "    ('preprocessor', preprocessor),\n",
    "    ('poly', PolynomialFeatures(degree=2)),\n",
    "    ('regressor', LinearRegression())\n",
    "])\n",
    "\n",
    "poly_pipeline.fit(X_train, Y_train)\n",
    "\n",
    "y_pred_poly = poly_pipeline.predict(X_test)\n",
    "\n",
    "names.append('Polynomial Features')\n",
    "y_predictions.append(y_pred_poly)"
   ]
  },
  {
   "cell_type": "markdown",
   "id": "9fe77b31",
   "metadata": {},
   "source": [
    "#### Lasso"
   ]
  },
  {
   "cell_type": "code",
   "execution_count": 88,
   "id": "0c32505c",
   "metadata": {},
   "outputs": [
    {
     "name": "stdout",
     "output_type": "stream",
     "text": [
      "Lasso Best Params: {'regressor__alpha': np.float64(0.0031622776601683794)}\n"
     ]
    }
   ],
   "source": [
    "from sklearn.linear_model import Lasso\n",
    "\n",
    "L1_pipeline = Pipeline([\n",
    "    ('preprocessor', preprocessor),\n",
    "    ('regressor', Lasso())\n",
    "])\n",
    "\n",
    "from sklearn.model_selection import GridSearchCV\n",
    "import numpy as np\n",
    "\n",
    "L1_param_grid = {\n",
    "    'regressor__alpha': np.logspace(-5, -1, 9)\n",
    "}\n",
    "\n",
    "l1_grid = GridSearchCV(L1_pipeline, L1_param_grid, cv=5, scoring='r2', n_jobs=-1)\n",
    "l1_grid.fit(X_train, Y_train)\n",
    "\n",
    "print(\"Lasso Best Params:\", l1_grid.best_params_)\n",
    "\n",
    "y_pred_l1 = l1_grid.predict(X_test)\n",
    "\n",
    "names.append('Lasso')\n",
    "y_predictions.append(y_pred_l1)"
   ]
  },
  {
   "cell_type": "markdown",
   "id": "2db97e1a",
   "metadata": {},
   "source": [
    "#### Ridge"
   ]
  },
  {
   "cell_type": "code",
   "execution_count": 89,
   "id": "0a559c8c",
   "metadata": {},
   "outputs": [
    {
     "name": "stdout",
     "output_type": "stream",
     "text": [
      "Ridge Best Params: {'regressor__alpha': np.float64(10.0)}\n"
     ]
    }
   ],
   "source": [
    "from sklearn.linear_model import Ridge\n",
    "\n",
    "L2_pipeline = Pipeline([\n",
    "    ('preprocessor', preprocessor),\n",
    "    ('regressor', Ridge())\n",
    "])\n",
    "\n",
    "L2_param_grid = {\n",
    "    'regressor__alpha': np.linspace(1, 10, 10)\n",
    "}\n",
    "\n",
    "l2_grid = GridSearchCV(L2_pipeline, L2_param_grid, cv=5, scoring='r2', n_jobs=-1)\n",
    "l2_grid.fit(X_train, Y_train)\n",
    "\n",
    "print(\"Ridge Best Params:\", l2_grid.best_params_)\n",
    "\n",
    "y_pred_l2 = l2_grid.predict(X_test)\n",
    "\n",
    "names.append('Ridge')\n",
    "y_predictions.append(y_pred_l2)"
   ]
  },
  {
   "cell_type": "markdown",
   "id": "6a0d82cb",
   "metadata": {},
   "source": [
    "#### Linear Regression closed form solution"
   ]
  },
  {
   "cell_type": "code",
   "execution_count": 22,
   "id": "6604ad1b",
   "metadata": {},
   "outputs": [],
   "source": [
    "from src.linear_regression.models import LinearRegressionClosedForm\n",
    "\n",
    "closed_form_pipeline = Pipeline([\n",
    "    ('preprocessor', preprocessor),\n",
    "    ('regressor', LinearRegressionClosedForm())\n",
    "])\n",
    "\n",
    "closed_form_pipeline.fit(X_train, Y_train)\n",
    "\n",
    "y_pred_lr_cf = closed_form_pipeline.predict(X_test)\n",
    "\n",
    "names.append('Closed Form Solution')\n",
    "y_predictions.append(y_pred_lr_cf)"
   ]
  },
  {
   "cell_type": "markdown",
   "id": "3bd9f579",
   "metadata": {},
   "source": [
    "#### Linear Regression closed form solution WITH L2 regularization"
   ]
  },
  {
   "cell_type": "code",
   "execution_count": 23,
   "id": "3ed7ad9d",
   "metadata": {},
   "outputs": [],
   "source": [
    "cf_LR_L2_pipeline = Pipeline([\n",
    "    ('preprocessor', preprocessor),\n",
    "    ('regressor', LinearRegressionClosedForm(regularization=True, alpha=10))\n",
    "])\n",
    "\n",
    "cf_LR_L2_pipeline.fit(X_train, Y_train)\n",
    "\n",
    "y_pred_cf_l2 = cf_LR_L2_pipeline.predict(X_test)\n",
    "\n",
    "names.append('Closed Form Solution with L2')\n",
    "y_predictions.append(y_pred_cf_l2)"
   ]
  },
  {
   "cell_type": "markdown",
   "id": "d713092a",
   "metadata": {},
   "source": [
    "#### Linear Regression gradient descent"
   ]
  },
  {
   "cell_type": "code",
   "execution_count": 24,
   "id": "41ea6a62",
   "metadata": {},
   "outputs": [],
   "source": [
    "from src.linear_regression.models import LinearRegressionGradientDescent\n",
    "\n",
    "gradient_descent_pipeline = Pipeline([\n",
    "    ('preprocessor', preprocessor),\n",
    "    ('regressor', LinearRegressionGradientDescent())\n",
    "])\n",
    "\n",
    "gradient_descent_pipeline.fit(X_train, Y_train)\n",
    "\n",
    "y_pred_lr_gd = gradient_descent_pipeline.predict(X_test)\n",
    "\n",
    "names.append('Gradient Descent')\n",
    "y_predictions.append(y_pred_lr_gd)"
   ]
  },
  {
   "cell_type": "markdown",
   "id": "4c70fff9",
   "metadata": {},
   "source": [
    "#### Linear Regression gradient descent WITH L1 regularization"
   ]
  },
  {
   "cell_type": "code",
   "execution_count": 25,
   "id": "83bdf4d0",
   "metadata": {},
   "outputs": [],
   "source": [
    "gd_l1_pipeline = Pipeline([\n",
    "    ('preprocessor', preprocessor),\n",
    "    ('regressor', LinearRegressionGradientDescent(regularization='l1', alpha=5))\n",
    "])\n",
    "\n",
    "gd_l1_pipeline.fit(X_train, Y_train)\n",
    "\n",
    "y_pred_gd_l1 = gd_l1_pipeline.predict(X_test)\n",
    "\n",
    "names.append('Gradient Descent L1')\n",
    "y_predictions.append(y_pred_gd_l1)"
   ]
  },
  {
   "cell_type": "markdown",
   "id": "cfaa6572",
   "metadata": {},
   "source": [
    "#### Linear Regression gradient descent WITH L2 regularization"
   ]
  },
  {
   "cell_type": "code",
   "execution_count": 26,
   "id": "7471d2e0",
   "metadata": {},
   "outputs": [],
   "source": [
    "gd_l2_pipeline = Pipeline([\n",
    "    ('preprocessor', preprocessor),\n",
    "    ('regressor', LinearRegressionGradientDescent(regularization='l2', alpha=0.5))\n",
    "])\n",
    "\n",
    "gd_l2_pipeline.fit(X_train, Y_train)\n",
    "\n",
    "y_pred_gd_l2 = gd_l2_pipeline.predict(X_test)\n",
    "\n",
    "names.append('Gradient Descent L2')\n",
    "y_predictions.append(y_pred_gd_l2)"
   ]
  },
  {
   "cell_type": "markdown",
   "id": "c4555562",
   "metadata": {},
   "source": [
    "#### Linear Regression gradient descent WITH both L1 and L2"
   ]
  },
  {
   "cell_type": "code",
   "execution_count": 27,
   "id": "614328b5",
   "metadata": {},
   "outputs": [],
   "source": [
    "gd_en_pipeline = Pipeline([\n",
    "    ('preprocessor', preprocessor),\n",
    "    ('regressor', LinearRegressionGradientDescent(regularization='elasticnet', alpha=1))\n",
    "])\n",
    "\n",
    "gd_en_pipeline.fit(X_train, Y_train)\n",
    "\n",
    "y_pred_gd_en = gd_en_pipeline.predict(X_test)\n",
    "\n",
    "names.append('Gradient Descent L1 and L2')\n",
    "y_predictions.append(y_pred_gd_en)"
   ]
  },
  {
   "cell_type": "markdown",
   "id": "e808e056",
   "metadata": {},
   "source": [
    "#### Support Vector Regression (grid search)"
   ]
  },
  {
   "cell_type": "code",
   "execution_count": 96,
   "id": "25c11e30",
   "metadata": {},
   "outputs": [],
   "source": [
    "from sklearn.svm import SVR\n",
    "\n",
    "SVR_grid_search = SVR()\n",
    "\n",
    "svr_pipeline = Pipeline([\n",
    "    ('preprocessor', preprocessor),\n",
    "    ('regressor', SVR_grid_search)\n",
    "])\n",
    "\n",
    "svr_param_grid = {\n",
    "    'regressor__C': [0.1, 1, 5, 10, 20],\n",
    "    'regressor__epsilon': [0.05, 0.1, 0.5],\n",
    "    'regressor__gamma': ['scale', 0.01, 0.1]\n",
    "}\n",
    "\n",
    "svr_grid = GridSearchCV(svr_pipeline, svr_param_grid, cv=5, scoring='r2', n_jobs=-1)\n",
    "svr_grid.fit(X_train, Y_train)\n",
    "\n",
    "y_pred_svr_grid = svr_grid.predict(X_test)"
   ]
  },
  {
   "cell_type": "code",
   "execution_count": 97,
   "id": "b846d8e5",
   "metadata": {},
   "outputs": [
    {
     "name": "stdout",
     "output_type": "stream",
     "text": [
      "{'regressor__C': 5, 'regressor__epsilon': 0.5, 'regressor__gamma': 0.01}\n"
     ]
    }
   ],
   "source": [
    "print(svr_grid.best_params_)\n",
    "\n",
    "names.append('Support Vector Regression')\n",
    "y_predictions.append(y_pred_svr_grid)"
   ]
  },
  {
   "cell_type": "markdown",
   "id": "a38a4397",
   "metadata": {},
   "source": [
    "#### Random Forest Regression (grid search)"
   ]
  },
  {
   "cell_type": "code",
   "execution_count": 98,
   "id": "4a93a549",
   "metadata": {},
   "outputs": [],
   "source": [
    "from sklearn.ensemble import RandomForestRegressor\n",
    "\n",
    "RFR_grid_search = RandomForestRegressor(random_state=42)\n",
    "\n",
    "rfr_pipeline = Pipeline([\n",
    "    ('preprocessor', preprocessor),\n",
    "    ('regressor', RFR_grid_search)\n",
    "])\n",
    "\n",
    "rf_param_grid = {\n",
    "    'regressor__n_estimators': [100, 200, 300],\n",
    "    'regressor__max_depth': [15, 20, 25],\n",
    "    'regressor__min_samples_split': [7, 10, 18],\n",
    "    'regressor__max_features': ['sqrt', 0.5, 1]\n",
    "}\n",
    "\n",
    "rf_grid = GridSearchCV(rfr_pipeline, rf_param_grid, cv=5, scoring='r2', n_jobs=-1)\n",
    "rf_grid.fit(X_train, Y_train)\n",
    "\n",
    "y_pred_rf_grid = rf_grid.predict(X_test)"
   ]
  },
  {
   "cell_type": "code",
   "execution_count": 99,
   "id": "a3788950",
   "metadata": {},
   "outputs": [
    {
     "name": "stdout",
     "output_type": "stream",
     "text": [
      "{'regressor__max_depth': 20, 'regressor__max_features': 0.5, 'regressor__min_samples_split': 7, 'regressor__n_estimators': 300}\n"
     ]
    }
   ],
   "source": [
    "names.append('Random Forest Regression')\n",
    "y_predictions.append(y_pred_rf_grid)\n",
    "\n",
    "print(rf_grid.best_params_)"
   ]
  },
  {
   "cell_type": "markdown",
   "id": "489517fc",
   "metadata": {},
   "source": [
    "### Evaluation"
   ]
  },
  {
   "cell_type": "code",
   "execution_count": 28,
   "id": "61f1a504",
   "metadata": {},
   "outputs": [
    {
     "data": {
      "text/html": [
       "<div>\n",
       "<style scoped>\n",
       "    .dataframe tbody tr th:only-of-type {\n",
       "        vertical-align: middle;\n",
       "    }\n",
       "\n",
       "    .dataframe tbody tr th {\n",
       "        vertical-align: top;\n",
       "    }\n",
       "\n",
       "    .dataframe thead th {\n",
       "        text-align: right;\n",
       "    }\n",
       "</style>\n",
       "<table border=\"1\" class=\"dataframe\">\n",
       "  <thead>\n",
       "    <tr style=\"text-align: right;\">\n",
       "      <th></th>\n",
       "      <th>R²</th>\n",
       "      <th>MSE</th>\n",
       "      <th>RMSE</th>\n",
       "      <th>MAE</th>\n",
       "    </tr>\n",
       "  </thead>\n",
       "  <tbody>\n",
       "    <tr>\n",
       "      <th>Closed Form Solution with L2</th>\n",
       "      <td>0.716410</td>\n",
       "      <td>4.192945</td>\n",
       "      <td>2.047668</td>\n",
       "      <td>0.491163</td>\n",
       "    </tr>\n",
       "    <tr>\n",
       "      <th>Linear Regression (sklearn)</th>\n",
       "      <td>0.716281</td>\n",
       "      <td>4.194855</td>\n",
       "      <td>2.048135</td>\n",
       "      <td>0.491390</td>\n",
       "    </tr>\n",
       "    <tr>\n",
       "      <th>Closed Form Solution</th>\n",
       "      <td>0.716281</td>\n",
       "      <td>4.194855</td>\n",
       "      <td>2.048135</td>\n",
       "      <td>0.491390</td>\n",
       "    </tr>\n",
       "    <tr>\n",
       "      <th>Gradient Descent</th>\n",
       "      <td>0.715468</td>\n",
       "      <td>4.206868</td>\n",
       "      <td>2.051065</td>\n",
       "      <td>0.531695</td>\n",
       "    </tr>\n",
       "    <tr>\n",
       "      <th>Gradient Descent L2</th>\n",
       "      <td>0.593540</td>\n",
       "      <td>6.009604</td>\n",
       "      <td>2.451449</td>\n",
       "      <td>1.319385</td>\n",
       "    </tr>\n",
       "    <tr>\n",
       "      <th>Gradient Descent L1 and L2</th>\n",
       "      <td>0.480461</td>\n",
       "      <td>7.681506</td>\n",
       "      <td>2.771553</td>\n",
       "      <td>1.715653</td>\n",
       "    </tr>\n",
       "    <tr>\n",
       "      <th>Gradient Descent L1</th>\n",
       "      <td>0.005269</td>\n",
       "      <td>14.707329</td>\n",
       "      <td>3.835014</td>\n",
       "      <td>2.791925</td>\n",
       "    </tr>\n",
       "  </tbody>\n",
       "</table>\n",
       "</div>"
      ],
      "text/plain": [
       "                                    R²        MSE      RMSE       MAE\n",
       "Closed Form Solution with L2  0.716410   4.192945  2.047668  0.491163\n",
       "Linear Regression (sklearn)   0.716281   4.194855  2.048135  0.491390\n",
       "Closed Form Solution          0.716281   4.194855  2.048135  0.491390\n",
       "Gradient Descent              0.715468   4.206868  2.051065  0.531695\n",
       "Gradient Descent L2           0.593540   6.009604  2.451449  1.319385\n",
       "Gradient Descent L1 and L2    0.480461   7.681506  2.771553  1.715653\n",
       "Gradient Descent L1           0.005269  14.707329  3.835014  2.791925"
      ]
     },
     "metadata": {},
     "output_type": "display_data"
    }
   ],
   "source": [
    "from src.linear_regression.model_evaluation import metrics_table\n",
    "\n",
    "df_metrics = metrics_table(Y_test, y_predictions, names)\n",
    "df_sorted = df_metrics.sort_values(by='R²', ascending=False)\n",
    "\n",
    "display(df_sorted)"
   ]
  },
  {
   "cell_type": "markdown",
   "id": "924fcb74",
   "metadata": {},
   "source": [
    "#### Cross-validation"
   ]
  },
  {
   "cell_type": "code",
   "execution_count": 29,
   "id": "067dff1f",
   "metadata": {},
   "outputs": [],
   "source": [
    "from sklearn.model_selection import cross_validate, KFold\n",
    "\n",
    "kfold = KFold(n_splits=3, shuffle=True, random_state=42)\n",
    "\n",
    "estimators = [sklearn_LR_pipeline,\n",
    "              #small_pipeline,\n",
    "              #poly_pipeline,\n",
    "              #l1_grid.best_estimator_,\n",
    "              #l2_grid.best_estimator_,\n",
    "              closed_form_pipeline,\n",
    "              cf_LR_L2_pipeline,\n",
    "              gradient_descent_pipeline,\n",
    "              gd_l1_pipeline,\n",
    "              gd_l2_pipeline,\n",
    "              gd_en_pipeline,\n",
    "              #svr_grid.best_estimator_,\n",
    "              #rf_grid.best_estimator_\n",
    "              ]\n",
    "\n",
    "cross_vals = []\n",
    "\n",
    "for estimator in estimators:\n",
    "    cross_val = cross_validate(estimator, X_train, Y_train, cv=kfold,\n",
    "                              scoring=('r2', 'neg_mean_squared_error', 'neg_mean_absolute_error'),\n",
    "                              return_train_score=True)\n",
    "    cross_vals.append(cross_val)"
   ]
  },
  {
   "cell_type": "code",
   "execution_count": 30,
   "id": "3ee9e38c",
   "metadata": {},
   "outputs": [
    {
     "data": {
      "text/html": [
       "<div>\n",
       "<style scoped>\n",
       "    .dataframe tbody tr th:only-of-type {\n",
       "        vertical-align: middle;\n",
       "    }\n",
       "\n",
       "    .dataframe tbody tr th {\n",
       "        vertical-align: top;\n",
       "    }\n",
       "\n",
       "    .dataframe thead th {\n",
       "        text-align: right;\n",
       "    }\n",
       "</style>\n",
       "<table border=\"1\" class=\"dataframe\">\n",
       "  <thead>\n",
       "    <tr style=\"text-align: right;\">\n",
       "      <th></th>\n",
       "      <th>R² (test)</th>\n",
       "      <th>R² (train)</th>\n",
       "      <th>R² difference</th>\n",
       "      <th>MSE (test)</th>\n",
       "      <th>MAE (test)</th>\n",
       "    </tr>\n",
       "  </thead>\n",
       "  <tbody>\n",
       "    <tr>\n",
       "      <th>Gradient Descent</th>\n",
       "      <td>0.728449</td>\n",
       "      <td>0.732094</td>\n",
       "      <td>0.003645</td>\n",
       "      <td>4.190231</td>\n",
       "      <td>0.509112</td>\n",
       "    </tr>\n",
       "    <tr>\n",
       "      <th>Closed Form Solution with L2</th>\n",
       "      <td>0.728418</td>\n",
       "      <td>0.732142</td>\n",
       "      <td>0.003724</td>\n",
       "      <td>4.190484</td>\n",
       "      <td>0.505465</td>\n",
       "    </tr>\n",
       "    <tr>\n",
       "      <th>Linear Regression (sklearn)</th>\n",
       "      <td>0.728405</td>\n",
       "      <td>0.732171</td>\n",
       "      <td>0.003766</td>\n",
       "      <td>4.190884</td>\n",
       "      <td>0.506094</td>\n",
       "    </tr>\n",
       "    <tr>\n",
       "      <th>Closed Form Solution</th>\n",
       "      <td>0.728405</td>\n",
       "      <td>0.732171</td>\n",
       "      <td>0.003766</td>\n",
       "      <td>4.190884</td>\n",
       "      <td>0.506094</td>\n",
       "    </tr>\n",
       "    <tr>\n",
       "      <th>Gradient Descent L2</th>\n",
       "      <td>0.599851</td>\n",
       "      <td>0.602256</td>\n",
       "      <td>0.002405</td>\n",
       "      <td>6.132705</td>\n",
       "      <td>1.336414</td>\n",
       "    </tr>\n",
       "    <tr>\n",
       "      <th>Gradient Descent L1 and L2</th>\n",
       "      <td>0.484754</td>\n",
       "      <td>0.485526</td>\n",
       "      <td>0.000771</td>\n",
       "      <td>7.878257</td>\n",
       "      <td>1.732111</td>\n",
       "    </tr>\n",
       "    <tr>\n",
       "      <th>Gradient Descent L1</th>\n",
       "      <td>0.007844</td>\n",
       "      <td>0.007388</td>\n",
       "      <td>-0.000456</td>\n",
       "      <td>15.127139</td>\n",
       "      <td>2.841914</td>\n",
       "    </tr>\n",
       "  </tbody>\n",
       "</table>\n",
       "</div>"
      ],
      "text/plain": [
       "                              R² (test)  R² (train)  R² difference  \\\n",
       "Gradient Descent               0.728449    0.732094       0.003645   \n",
       "Closed Form Solution with L2   0.728418    0.732142       0.003724   \n",
       "Linear Regression (sklearn)    0.728405    0.732171       0.003766   \n",
       "Closed Form Solution           0.728405    0.732171       0.003766   \n",
       "Gradient Descent L2            0.599851    0.602256       0.002405   \n",
       "Gradient Descent L1 and L2     0.484754    0.485526       0.000771   \n",
       "Gradient Descent L1            0.007844    0.007388      -0.000456   \n",
       "\n",
       "                              MSE (test)  MAE (test)  \n",
       "Gradient Descent                4.190231    0.509112  \n",
       "Closed Form Solution with L2    4.190484    0.505465  \n",
       "Linear Regression (sklearn)     4.190884    0.506094  \n",
       "Closed Form Solution            4.190884    0.506094  \n",
       "Gradient Descent L2             6.132705    1.336414  \n",
       "Gradient Descent L1 and L2      7.878257    1.732111  \n",
       "Gradient Descent L1            15.127139    2.841914  "
      ]
     },
     "metadata": {},
     "output_type": "display_data"
    }
   ],
   "source": [
    "import numpy as np\n",
    "\n",
    "metrics = ['R² (test)', 'R² (train)', 'R² difference', 'MSE (test)', 'MAE (test)']\n",
    "\n",
    "results = {\n",
    "    name: [\n",
    "        np.mean(cross_val['test_r2']),\n",
    "        np.mean(cross_val['train_r2']),\n",
    "        np.mean(cross_val['train_r2']) - np.mean(cross_val['test_r2']),\n",
    "        -np.mean(cross_val['test_neg_mean_squared_error']),\n",
    "        -np.mean(cross_val['test_neg_mean_absolute_error'])\n",
    "    ]\n",
    "    for (name, cross_val) in zip(names, cross_vals) \n",
    "}\n",
    "\n",
    "df_cross_val = pd.DataFrame(results, index=metrics).T.round(6)\n",
    "df_sorted_cross_val = df_cross_val.sort_values(by='R² (test)', ascending=False)\n",
    "\n",
    "display(df_sorted_cross_val)"
   ]
  },
  {
   "cell_type": "code",
   "execution_count": 19,
   "id": "daaa21c1",
   "metadata": {},
   "outputs": [
    {
     "name": "stdout",
     "output_type": "stream",
     "text": [
      "Intercept before regularization:\n",
      "\t 10.72954692975006\n",
      "Intercept after regularization:\n",
      "\t 66.17996464135784\n"
     ]
    }
   ],
   "source": [
    "print('Intercept before regularization:')\n",
    "print('\\t', closed_form_pipeline['regressor'].intercept_)\n",
    "print('Intercept after regularization:')\n",
    "print('\\t', cf_LR_L2_pipeline['regressor'].intercept_)"
   ]
  }
 ],
 "metadata": {
  "kernelspec": {
   "display_name": "projekt_msid",
   "language": "python",
   "name": "python3"
  },
  "language_info": {
   "codemirror_mode": {
    "name": "ipython",
    "version": 3
   },
   "file_extension": ".py",
   "mimetype": "text/x-python",
   "name": "python",
   "nbconvert_exporter": "python",
   "pygments_lexer": "ipython3",
   "version": "3.13.2"
  }
 },
 "nbformat": 4,
 "nbformat_minor": 5
}
