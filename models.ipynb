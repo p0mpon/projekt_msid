{
 "cells": [
  {
   "cell_type": "markdown",
   "id": "aff2ec1d",
   "metadata": {},
   "source": [
    "### Training and testing machine learning models.\n",
    "- Linear regression\n",
    "- Random forest regressor\n",
    "- Support vector regression\n",
    "- Dummy regressor (for comparison)\n",
    "\n",
    "#### Importing the dataset."
   ]
  },
  {
   "cell_type": "code",
   "execution_count": 1,
   "id": "001fc5af",
   "metadata": {},
   "outputs": [
    {
     "name": "stdout",
     "output_type": "stream",
     "text": [
      "<class 'pandas.core.frame.DataFrame'>\n",
      "RangeIndex: 6607 entries, 0 to 6606\n",
      "Data columns (total 20 columns):\n",
      " #   Column                      Non-Null Count  Dtype \n",
      "---  ------                      --------------  ----- \n",
      " 0   Hours_Studied               6607 non-null   int64 \n",
      " 1   Attendance                  6607 non-null   int64 \n",
      " 2   Parental_Involvement        6607 non-null   object\n",
      " 3   Access_to_Resources         6607 non-null   object\n",
      " 4   Extracurricular_Activities  6607 non-null   object\n",
      " 5   Sleep_Hours                 6607 non-null   int64 \n",
      " 6   Previous_Scores             6607 non-null   int64 \n",
      " 7   Motivation_Level            6607 non-null   object\n",
      " 8   Internet_Access             6607 non-null   object\n",
      " 9   Tutoring_Sessions           6607 non-null   int64 \n",
      " 10  Family_Income               6607 non-null   object\n",
      " 11  Teacher_Quality             6529 non-null   object\n",
      " 12  School_Type                 6607 non-null   object\n",
      " 13  Peer_Influence              6607 non-null   object\n",
      " 14  Physical_Activity           6607 non-null   int64 \n",
      " 15  Learning_Disabilities       6607 non-null   object\n",
      " 16  Parental_Education_Level    6517 non-null   object\n",
      " 17  Distance_from_Home          6540 non-null   object\n",
      " 18  Gender                      6607 non-null   object\n",
      " 19  Exam_Score                  6607 non-null   int64 \n",
      "dtypes: int64(7), object(13)\n",
      "memory usage: 1.0+ MB\n"
     ]
    }
   ],
   "source": [
    "import pandas as pd\n",
    "\n",
    "data = pd.read_csv('data/StudentPerformanceFactors.csv')\n",
    "data.info()"
   ]
  },
  {
   "cell_type": "markdown",
   "id": "5e956498",
   "metadata": {},
   "source": [
    "#### Separating features from target."
   ]
  },
  {
   "cell_type": "code",
   "execution_count": 2,
   "id": "10972b4e",
   "metadata": {},
   "outputs": [],
   "source": [
    "X = data.drop(\"Exam_Score\", axis=1)\n",
    "Y = data['Exam_Score']"
   ]
  },
  {
   "cell_type": "markdown",
   "id": "bbebe692",
   "metadata": {},
   "source": [
    "#### Splitting the data to train set and test set."
   ]
  },
  {
   "cell_type": "code",
   "execution_count": 3,
   "id": "cf34e4e7",
   "metadata": {},
   "outputs": [],
   "source": [
    "from sklearn.model_selection import train_test_split\n",
    "\n",
    "X_train, X_test, Y_train, Y_test = train_test_split(X, Y, train_size=0.75)"
   ]
  },
  {
   "cell_type": "markdown",
   "id": "5af41945",
   "metadata": {},
   "source": [
    "#### Separating numerical columns and categorical columns."
   ]
  },
  {
   "cell_type": "code",
   "execution_count": 4,
   "id": "7cfaf6b5",
   "metadata": {},
   "outputs": [],
   "source": [
    "num_cols = X.select_dtypes(include=['int64', 'float64']).columns\n",
    "cat_cols = X.select_dtypes(include=['object', 'category']).columns"
   ]
  },
  {
   "cell_type": "markdown",
   "id": "8baf0a35",
   "metadata": {},
   "source": [
    "#### Defining numerical columns preprocessing pipeline."
   ]
  },
  {
   "cell_type": "code",
   "execution_count": 5,
   "id": "2c020324",
   "metadata": {},
   "outputs": [],
   "source": [
    "from sklearn.pipeline import Pipeline\n",
    "from sklearn.impute import SimpleImputer\n",
    "from sklearn.preprocessing import StandardScaler\n",
    "\n",
    "num_pipeline = Pipeline([\n",
    "    ('imputer', SimpleImputer(strategy='median')),\n",
    "    ('scaler', StandardScaler())\n",
    "])"
   ]
  },
  {
   "cell_type": "markdown",
   "id": "8b6c1469",
   "metadata": {},
   "source": [
    "#### Defining categorical columns preprocessing pipeline."
   ]
  },
  {
   "cell_type": "code",
   "execution_count": 6,
   "id": "422a13bd",
   "metadata": {},
   "outputs": [],
   "source": [
    "from sklearn.preprocessing import OneHotEncoder\n",
    "\n",
    "cat_pipeline = Pipeline([\n",
    "    ('imputer', SimpleImputer(strategy='most_frequent')),\n",
    "    ('onehot', OneHotEncoder(handle_unknown='ignore'))\n",
    "])"
   ]
  },
  {
   "cell_type": "markdown",
   "id": "e2767050",
   "metadata": {},
   "source": [
    "#### Merging into one column transformer."
   ]
  },
  {
   "cell_type": "code",
   "execution_count": 7,
   "id": "3c7226d7",
   "metadata": {},
   "outputs": [],
   "source": [
    "from sklearn.compose import ColumnTransformer\n",
    "\n",
    "preprocessor = ColumnTransformer([\n",
    "    ('num', num_pipeline, num_cols),\n",
    "    ('cat', cat_pipeline, cat_cols)\n",
    "])"
   ]
  },
  {
   "cell_type": "markdown",
   "id": "dedfb5ba",
   "metadata": {},
   "source": [
    "#### Finally, defining the full pipeline."
   ]
  },
  {
   "cell_type": "code",
   "execution_count": 8,
   "id": "ce4bb55b",
   "metadata": {},
   "outputs": [],
   "source": [
    "from sklearn.linear_model import LinearRegression\n",
    "from sklearn.ensemble import RandomForestRegressor\n",
    "from sklearn.dummy import DummyRegressor\n",
    "from sklearn.svm import SVR\n",
    "\n",
    "LR = LinearRegression()\n",
    "RF = RandomForestRegressor()\n",
    "SVR = SVR()\n",
    "DR = DummyRegressor()\n",
    "\n",
    "\n",
    "linear_regression_pipeline = Pipeline([\n",
    "    ('preprocessor', preprocessor),\n",
    "    ('regressor', LR)\n",
    "])\n",
    "\n",
    "random_forest_pipeline = Pipeline([\n",
    "    ('preprocessor', preprocessor),\n",
    "    ('regressor', RF)\n",
    "])\n",
    "\n",
    "svr_pipeline = Pipeline([\n",
    "    ('preprocessor', preprocessor),\n",
    "    ('regressor', SVR)\n",
    "])\n",
    "\n",
    "dummy_pipeline = Pipeline([\n",
    "    ('preprocessor', preprocessor),\n",
    "    ('regressor', DR)\n",
    "])\n",
    "\n",
    "\n",
    "linear_regression_pipeline.fit(X_train, Y_train)\n",
    "random_forest_pipeline.fit(X_train, Y_train)\n",
    "svr_pipeline.fit(X_train, Y_train)\n",
    "dummy_pipeline.fit(X_train, Y_train)\n",
    "\n",
    "y_pred_lr = linear_regression_pipeline.predict(X_test)\n",
    "y_pred_rf = random_forest_pipeline.predict(X_test)\n",
    "y_pred_svr = svr_pipeline.predict(X_test)\n",
    "y_pred_dr = dummy_pipeline.predict(X_test)"
   ]
  },
  {
   "cell_type": "markdown",
   "id": "e3e71855",
   "metadata": {},
   "source": [
    "#### Evaluating models."
   ]
  },
  {
   "cell_type": "code",
   "execution_count": 9,
   "id": "2b511f23",
   "metadata": {},
   "outputs": [
    {
     "data": {
      "text/html": [
       "<div>\n",
       "<style scoped>\n",
       "    .dataframe tbody tr th:only-of-type {\n",
       "        vertical-align: middle;\n",
       "    }\n",
       "\n",
       "    .dataframe tbody tr th {\n",
       "        vertical-align: top;\n",
       "    }\n",
       "\n",
       "    .dataframe thead th {\n",
       "        text-align: right;\n",
       "    }\n",
       "</style>\n",
       "<table border=\"1\" class=\"dataframe\">\n",
       "  <thead>\n",
       "    <tr style=\"text-align: right;\">\n",
       "      <th></th>\n",
       "      <th>R²</th>\n",
       "      <th>MSE</th>\n",
       "      <th>RMSE</th>\n",
       "      <th>MAE</th>\n",
       "    </tr>\n",
       "  </thead>\n",
       "  <tbody>\n",
       "    <tr>\n",
       "      <th>Linear Regression</th>\n",
       "      <td>0.705193</td>\n",
       "      <td>4.527672</td>\n",
       "      <td>2.127833</td>\n",
       "      <td>0.494409</td>\n",
       "    </tr>\n",
       "    <tr>\n",
       "      <th>Random forest</th>\n",
       "      <td>0.625452</td>\n",
       "      <td>5.752340</td>\n",
       "      <td>2.398404</td>\n",
       "      <td>1.113432</td>\n",
       "    </tr>\n",
       "    <tr>\n",
       "      <th>Support vector regression</th>\n",
       "      <td>0.696654</td>\n",
       "      <td>4.658815</td>\n",
       "      <td>2.158429</td>\n",
       "      <td>0.542062</td>\n",
       "    </tr>\n",
       "    <tr>\n",
       "      <th>Dummy regressor</th>\n",
       "      <td>-0.001726</td>\n",
       "      <td>15.384595</td>\n",
       "      <td>3.922320</td>\n",
       "      <td>2.874064</td>\n",
       "    </tr>\n",
       "  </tbody>\n",
       "</table>\n",
       "</div>"
      ],
      "text/plain": [
       "                                 R²        MSE      RMSE       MAE\n",
       "Linear Regression          0.705193   4.527672  2.127833  0.494409\n",
       "Random forest              0.625452   5.752340  2.398404  1.113432\n",
       "Support vector regression  0.696654   4.658815  2.158429  0.542062\n",
       "Dummy regressor           -0.001726  15.384595  3.922320  2.874064"
      ]
     },
     "metadata": {},
     "output_type": "display_data"
    }
   ],
   "source": [
    "from src.linear_regression.model_evaluation import metrics_table\n",
    "\n",
    "df_metrics = metrics_table(Y_test,\n",
    "                           [y_pred_lr, y_pred_rf, y_pred_svr, y_pred_dr],\n",
    "                           ['Linear Regression', 'Random forest', 'Support vector regression', 'Dummy regressor'])\n",
    "\n",
    "display(df_metrics)"
   ]
  },
  {
   "cell_type": "markdown",
   "id": "6ed3b2a5",
   "metadata": {},
   "source": [
    "#### Cross validating models."
   ]
  },
  {
   "cell_type": "code",
   "execution_count": 10,
   "id": "cddbe47c",
   "metadata": {},
   "outputs": [],
   "source": [
    "from sklearn.model_selection import cross_validate\n",
    "\n",
    "LR_cross_val = cross_validate(linear_regression_pipeline, X_train, Y_train, cv=5,\n",
    "                              scoring=('r2', 'neg_mean_squared_error', 'neg_mean_absolute_error'),\n",
    "                              return_train_score=True)\n",
    "\n",
    "RF_cross_val = cross_validate(random_forest_pipeline, X_train, Y_train, cv=5,\n",
    "                              scoring=('r2', 'neg_mean_squared_error', 'neg_mean_absolute_error'),\n",
    "                              return_train_score=True)\n",
    "\n",
    "SVR_cross_val = cross_validate(svr_pipeline, X_train, Y_train, cv=5,\n",
    "                              scoring=('r2', 'neg_mean_squared_error', 'neg_mean_absolute_error'),\n",
    "                              return_train_score=True)"
   ]
  },
  {
   "cell_type": "code",
   "execution_count": 11,
   "id": "0934caf1",
   "metadata": {},
   "outputs": [
    {
     "data": {
      "text/html": [
       "<div>\n",
       "<style scoped>\n",
       "    .dataframe tbody tr th:only-of-type {\n",
       "        vertical-align: middle;\n",
       "    }\n",
       "\n",
       "    .dataframe tbody tr th {\n",
       "        vertical-align: top;\n",
       "    }\n",
       "\n",
       "    .dataframe thead th {\n",
       "        text-align: right;\n",
       "    }\n",
       "</style>\n",
       "<table border=\"1\" class=\"dataframe\">\n",
       "  <thead>\n",
       "    <tr style=\"text-align: right;\">\n",
       "      <th></th>\n",
       "      <th>R² (test)</th>\n",
       "      <th>R² (train)</th>\n",
       "      <th>R² difference</th>\n",
       "      <th>MSE (test)</th>\n",
       "      <th>MAE (test)</th>\n",
       "    </tr>\n",
       "  </thead>\n",
       "  <tbody>\n",
       "    <tr>\n",
       "      <th>Linear Regression</th>\n",
       "      <td>0.738450</td>\n",
       "      <td>0.734962</td>\n",
       "      <td>-0.003488</td>\n",
       "      <td>4.049083</td>\n",
       "      <td>0.496413</td>\n",
       "    </tr>\n",
       "    <tr>\n",
       "      <th>Random Forest</th>\n",
       "      <td>0.638883</td>\n",
       "      <td>0.948386</td>\n",
       "      <td>0.309503</td>\n",
       "      <td>5.522657</td>\n",
       "      <td>1.151502</td>\n",
       "    </tr>\n",
       "    <tr>\n",
       "      <th>Support Vector Regression</th>\n",
       "      <td>0.728154</td>\n",
       "      <td>0.735017</td>\n",
       "      <td>0.006863</td>\n",
       "      <td>4.206289</td>\n",
       "      <td>0.546370</td>\n",
       "    </tr>\n",
       "  </tbody>\n",
       "</table>\n",
       "</div>"
      ],
      "text/plain": [
       "                           R² (test)  R² (train)  R² difference  MSE (test)  \\\n",
       "Linear Regression           0.738450    0.734962      -0.003488    4.049083   \n",
       "Random Forest               0.638883    0.948386       0.309503    5.522657   \n",
       "Support Vector Regression   0.728154    0.735017       0.006863    4.206289   \n",
       "\n",
       "                           MAE (test)  \n",
       "Linear Regression            0.496413  \n",
       "Random Forest                1.151502  \n",
       "Support Vector Regression    0.546370  "
      ]
     },
     "metadata": {},
     "output_type": "display_data"
    }
   ],
   "source": [
    "import numpy as np\n",
    "\n",
    "models = ['Linear Regression', 'Random Forest', 'Support Vector Regression']\n",
    "metrics = ['R² (test)', 'R² (train)', 'R² difference', 'MSE (test)', 'MAE (test)']\n",
    "\n",
    "results = {\n",
    "    'Linear Regression': [\n",
    "        np.mean(LR_cross_val['test_r2']),\n",
    "        np.mean(LR_cross_val['train_r2']),\n",
    "        np.mean(LR_cross_val['train_r2']) - np.mean(LR_cross_val['test_r2']),\n",
    "        -np.mean(LR_cross_val['test_neg_mean_squared_error']),\n",
    "        -np.mean(LR_cross_val['test_neg_mean_absolute_error'])\n",
    "    ],\n",
    "    'Random Forest': [\n",
    "        np.mean(RF_cross_val['test_r2']),\n",
    "        np.mean(RF_cross_val['train_r2']),\n",
    "        np.mean(RF_cross_val['train_r2']) - np.mean(RF_cross_val['test_r2']),\n",
    "        -np.mean(RF_cross_val['test_neg_mean_squared_error']),\n",
    "        -np.mean(RF_cross_val['test_neg_mean_absolute_error'])\n",
    "    ],\n",
    "    'Support Vector Regression': [\n",
    "        np.mean(SVR_cross_val['test_r2']),\n",
    "        np.mean(SVR_cross_val['train_r2']),\n",
    "        np.mean(SVR_cross_val['train_r2']) - np.mean(SVR_cross_val['test_r2']),\n",
    "        -np.mean(SVR_cross_val['test_neg_mean_squared_error']),\n",
    "        -np.mean(SVR_cross_val['test_neg_mean_absolute_error'])\n",
    "    ]\n",
    "}\n",
    "\n",
    "df_cross_val = pd.DataFrame(results, index=metrics).T.round(6)\n",
    "\n",
    "display(df_cross_val)"
   ]
  }
 ],
 "metadata": {
  "kernelspec": {
   "display_name": "projekt_msid",
   "language": "python",
   "name": "python3"
  },
  "language_info": {
   "codemirror_mode": {
    "name": "ipython",
    "version": 3
   },
   "file_extension": ".py",
   "mimetype": "text/x-python",
   "name": "python",
   "nbconvert_exporter": "python",
   "pygments_lexer": "ipython3",
   "version": "3.13.2"
  }
 },
 "nbformat": 4,
 "nbformat_minor": 5
}
