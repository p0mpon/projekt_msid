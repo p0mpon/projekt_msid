{
 "cells": [
  {
   "cell_type": "markdown",
   "id": "aff2ec1d",
   "metadata": {},
   "source": [
    "### Training and testing machine learning models.\n",
    "- Linear regression\n",
    "- Random forest regressor\n",
    "- Support vector regression\n",
    "- Dummy regressor (for comparison)\n",
    "\n",
    "#### Importing the dataset."
   ]
  },
  {
   "cell_type": "code",
   "execution_count": 20,
   "id": "001fc5af",
   "metadata": {},
   "outputs": [
    {
     "name": "stdout",
     "output_type": "stream",
     "text": [
      "<class 'pandas.core.frame.DataFrame'>\n",
      "RangeIndex: 6607 entries, 0 to 6606\n",
      "Data columns (total 20 columns):\n",
      " #   Column                      Non-Null Count  Dtype \n",
      "---  ------                      --------------  ----- \n",
      " 0   Hours_Studied               6607 non-null   int64 \n",
      " 1   Attendance                  6607 non-null   int64 \n",
      " 2   Parental_Involvement        6607 non-null   object\n",
      " 3   Access_to_Resources         6607 non-null   object\n",
      " 4   Extracurricular_Activities  6607 non-null   object\n",
      " 5   Sleep_Hours                 6607 non-null   int64 \n",
      " 6   Previous_Scores             6607 non-null   int64 \n",
      " 7   Motivation_Level            6607 non-null   object\n",
      " 8   Internet_Access             6607 non-null   object\n",
      " 9   Tutoring_Sessions           6607 non-null   int64 \n",
      " 10  Family_Income               6607 non-null   object\n",
      " 11  Teacher_Quality             6529 non-null   object\n",
      " 12  School_Type                 6607 non-null   object\n",
      " 13  Peer_Influence              6607 non-null   object\n",
      " 14  Physical_Activity           6607 non-null   int64 \n",
      " 15  Learning_Disabilities       6607 non-null   object\n",
      " 16  Parental_Education_Level    6517 non-null   object\n",
      " 17  Distance_from_Home          6540 non-null   object\n",
      " 18  Gender                      6607 non-null   object\n",
      " 19  Exam_Score                  6607 non-null   int64 \n",
      "dtypes: int64(7), object(13)\n",
      "memory usage: 1.0+ MB\n"
     ]
    }
   ],
   "source": [
    "import pandas as pd\n",
    "\n",
    "data = pd.read_csv('data/StudentPerformanceFactors.csv')\n",
    "data.info()"
   ]
  },
  {
   "cell_type": "markdown",
   "id": "5e956498",
   "metadata": {},
   "source": [
    "#### Separating features from target."
   ]
  },
  {
   "cell_type": "code",
   "execution_count": 21,
   "id": "10972b4e",
   "metadata": {},
   "outputs": [],
   "source": [
    "X = data.drop(\"Exam_Score\", axis=1)\n",
    "Y = data['Exam_Score']"
   ]
  },
  {
   "cell_type": "markdown",
   "id": "bbebe692",
   "metadata": {},
   "source": [
    "#### Splitting the data to train set and test set."
   ]
  },
  {
   "cell_type": "code",
   "execution_count": 22,
   "id": "cf34e4e7",
   "metadata": {},
   "outputs": [],
   "source": [
    "from sklearn.model_selection import train_test_split\n",
    "\n",
    "X_train, X_test, Y_train, Y_test = train_test_split(X, Y, train_size=0.75)"
   ]
  },
  {
   "cell_type": "markdown",
   "id": "5af41945",
   "metadata": {},
   "source": [
    "#### Separating numerical columns and categorical columns."
   ]
  },
  {
   "cell_type": "code",
   "execution_count": 23,
   "id": "7cfaf6b5",
   "metadata": {},
   "outputs": [],
   "source": [
    "num_cols = X.select_dtypes(include=['int64', 'float64']).columns\n",
    "cat_cols = X.select_dtypes(include=['object', 'category']).columns"
   ]
  },
  {
   "cell_type": "markdown",
   "id": "8baf0a35",
   "metadata": {},
   "source": [
    "#### Defining numerical columns preprocessing pipeline."
   ]
  },
  {
   "cell_type": "code",
   "execution_count": 24,
   "id": "2c020324",
   "metadata": {},
   "outputs": [],
   "source": [
    "from sklearn.pipeline import Pipeline\n",
    "from sklearn.impute import SimpleImputer\n",
    "from sklearn.preprocessing import StandardScaler\n",
    "\n",
    "num_pipeline = Pipeline([\n",
    "    ('imputer', SimpleImputer(strategy='median')),\n",
    "    ('scaler', StandardScaler())\n",
    "])"
   ]
  },
  {
   "cell_type": "markdown",
   "id": "8b6c1469",
   "metadata": {},
   "source": [
    "#### Defining categorical columns preprocessing pipeline."
   ]
  },
  {
   "cell_type": "code",
   "execution_count": 25,
   "id": "422a13bd",
   "metadata": {},
   "outputs": [],
   "source": [
    "from sklearn.preprocessing import OneHotEncoder\n",
    "\n",
    "cat_pipeline = Pipeline([\n",
    "    ('imputer', SimpleImputer(strategy='most_frequent')),\n",
    "    ('onehot', OneHotEncoder(handle_unknown='ignore'))\n",
    "])"
   ]
  },
  {
   "cell_type": "markdown",
   "id": "e2767050",
   "metadata": {},
   "source": [
    "#### Merging into one column transformer."
   ]
  },
  {
   "cell_type": "code",
   "execution_count": 26,
   "id": "3c7226d7",
   "metadata": {},
   "outputs": [],
   "source": [
    "from sklearn.compose import ColumnTransformer\n",
    "\n",
    "preprocessor = ColumnTransformer([\n",
    "    ('num', num_pipeline, num_cols),\n",
    "    ('cat', cat_pipeline, cat_cols)\n",
    "])"
   ]
  },
  {
   "cell_type": "markdown",
   "id": "dedfb5ba",
   "metadata": {},
   "source": [
    "#### Finally, defining the full pipeline."
   ]
  },
  {
   "cell_type": "code",
   "execution_count": 27,
   "id": "ce4bb55b",
   "metadata": {},
   "outputs": [],
   "source": [
    "from sklearn.linear_model import LinearRegression\n",
    "from sklearn.ensemble import RandomForestRegressor\n",
    "from sklearn.dummy import DummyRegressor\n",
    "from sklearn.svm import SVR\n",
    "\n",
    "LR = LinearRegression()\n",
    "RF = RandomForestRegressor()\n",
    "SVR = SVR()\n",
    "DR = DummyRegressor()\n",
    "\n",
    "\n",
    "linear_regression_pipeline = Pipeline([\n",
    "    ('preprocessor', preprocessor),\n",
    "    ('regressor', LR)\n",
    "])\n",
    "\n",
    "random_forest_pipeline = Pipeline([\n",
    "    ('preprocessor', preprocessor),\n",
    "    ('regressor', RF)\n",
    "])\n",
    "\n",
    "svr_pipeline = Pipeline([\n",
    "    ('preprocessor', preprocessor),\n",
    "    ('regressor', SVR)\n",
    "])\n",
    "\n",
    "dummy_pipeline = Pipeline([\n",
    "    ('preprocessor', preprocessor),\n",
    "    ('regressor', DR)\n",
    "])\n",
    "\n",
    "\n",
    "linear_regression_pipeline.fit(X_train, Y_train)\n",
    "random_forest_pipeline.fit(X_train, Y_train)\n",
    "svr_pipeline.fit(X_train, Y_train)\n",
    "dummy_pipeline.fit(X_train, Y_train)\n",
    "\n",
    "y_pred_lr = linear_regression_pipeline.predict(X_test)\n",
    "y_pred_rf = random_forest_pipeline.predict(X_test)\n",
    "y_pred_svr = svr_pipeline.predict(X_test)\n",
    "y_pred_dr = dummy_pipeline.predict(X_test)"
   ]
  },
  {
   "cell_type": "markdown",
   "id": "e3e71855",
   "metadata": {},
   "source": [
    "#### Evaluating models."
   ]
  },
  {
   "cell_type": "code",
   "execution_count": 28,
   "id": "2b511f23",
   "metadata": {},
   "outputs": [
    {
     "name": "stdout",
     "output_type": "stream",
     "text": [
      "Evaluating models:\n"
     ]
    },
    {
     "data": {
      "text/html": [
       "<div>\n",
       "<style scoped>\n",
       "    .dataframe tbody tr th:only-of-type {\n",
       "        vertical-align: middle;\n",
       "    }\n",
       "\n",
       "    .dataframe tbody tr th {\n",
       "        vertical-align: top;\n",
       "    }\n",
       "\n",
       "    .dataframe thead th {\n",
       "        text-align: right;\n",
       "    }\n",
       "</style>\n",
       "<table border=\"1\" class=\"dataframe\">\n",
       "  <thead>\n",
       "    <tr style=\"text-align: right;\">\n",
       "      <th></th>\n",
       "      <th>R2</th>\n",
       "      <th>RMSE</th>\n",
       "      <th>MAE</th>\n",
       "    </tr>\n",
       "  </thead>\n",
       "  <tbody>\n",
       "    <tr>\n",
       "      <th>Linear Regression</th>\n",
       "      <td>0.682049</td>\n",
       "      <td>2.164912</td>\n",
       "      <td>0.504253</td>\n",
       "    </tr>\n",
       "    <tr>\n",
       "      <th>Random forest</th>\n",
       "      <td>0.571858</td>\n",
       "      <td>2.512198</td>\n",
       "      <td>1.217137</td>\n",
       "    </tr>\n",
       "    <tr>\n",
       "      <th>Support vector regression</th>\n",
       "      <td>0.672634</td>\n",
       "      <td>2.196731</td>\n",
       "      <td>0.556853</td>\n",
       "    </tr>\n",
       "    <tr>\n",
       "      <th>Dummy regressor</th>\n",
       "      <td>-0.000427</td>\n",
       "      <td>3.840190</td>\n",
       "      <td>2.819673</td>\n",
       "    </tr>\n",
       "  </tbody>\n",
       "</table>\n",
       "</div>"
      ],
      "text/plain": [
       "                                 R2      RMSE       MAE\n",
       "Linear Regression          0.682049  2.164912  0.504253\n",
       "Random forest              0.571858  2.512198  1.217137\n",
       "Support vector regression  0.672634  2.196731  0.556853\n",
       "Dummy regressor           -0.000427  3.840190  2.819673"
      ]
     },
     "metadata": {},
     "output_type": "display_data"
    }
   ],
   "source": [
    "from src.linear_regression.model_evaluation import metrics_table\n",
    "\n",
    "df_metrics = metrics_table(Y_test,\n",
    "                           [y_pred_lr, y_pred_rf, y_pred_svr, y_pred_dr],\n",
    "                           ['Linear Regression', 'Random forest', 'Support vector regression', 'Dummy regressor'])\n",
    "\n",
    "print(\"Evaluating models:\")\n",
    "display(df_metrics)"
   ]
  }
 ],
 "metadata": {
  "kernelspec": {
   "display_name": "projekt_msid",
   "language": "python",
   "name": "python3"
  },
  "language_info": {
   "codemirror_mode": {
    "name": "ipython",
    "version": 3
   },
   "file_extension": ".py",
   "mimetype": "text/x-python",
   "name": "python",
   "nbconvert_exporter": "python",
   "pygments_lexer": "ipython3",
   "version": "3.13.2"
  }
 },
 "nbformat": 4,
 "nbformat_minor": 5
}
