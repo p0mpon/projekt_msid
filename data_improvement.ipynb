{
 "cells": [
  {
   "cell_type": "markdown",
   "id": "2a57d9f3",
   "metadata": {},
   "source": [
    "## 4. Data improvement - balancing sets"
   ]
  },
  {
   "cell_type": "code",
   "execution_count": 1,
   "id": "852583ae",
   "metadata": {},
   "outputs": [],
   "source": [
    "import pandas as pd\n",
    "\n",
    "data = pd.read_csv('data/StudentPerformanceFactors.csv')\n",
    "\n",
    "X = data.drop(\"Gender\", axis=1)\n",
    "Y = data['Gender']\n",
    "\n",
    "from sklearn.model_selection import train_test_split\n",
    "\n",
    "X_train, X_test, Y_train, Y_test = train_test_split(X, Y, train_size=0.75)\n",
    "\n",
    "num_cols = X.select_dtypes(include=['int64', 'float64']).columns\n",
    "cat_cols = X.select_dtypes(include=['object', 'category']).columns\n",
    "\n",
    "from sklearn.pipeline import Pipeline\n",
    "from sklearn.impute import SimpleImputer\n",
    "from sklearn.preprocessing import StandardScaler\n",
    "\n",
    "num_pipeline = Pipeline([\n",
    "    ('imputer', SimpleImputer(strategy='median')),\n",
    "    ('scaler', StandardScaler())\n",
    "])\n",
    "\n",
    "from sklearn.preprocessing import OneHotEncoder\n",
    "\n",
    "cat_pipeline = Pipeline([\n",
    "    ('imputer', SimpleImputer(strategy='most_frequent')),\n",
    "    ('onehot', OneHotEncoder(handle_unknown='ignore'))\n",
    "])\n",
    "\n",
    "from sklearn.compose import ColumnTransformer\n",
    "\n",
    "preprocessor = ColumnTransformer([\n",
    "    ('num', num_pipeline, num_cols),\n",
    "    ('cat', cat_pipeline, cat_cols)\n",
    "])"
   ]
  },
  {
   "cell_type": "markdown",
   "id": "63b06c84",
   "metadata": {},
   "source": [
    "#### Balancing sets\n",
    "Using ```SMOTE``` for oversampling and ```TomekLinks``` for undersampling.\n",
    "\n",
    "I chose Support Vector Classification as the model."
   ]
  },
  {
   "cell_type": "code",
   "execution_count": 2,
   "id": "6971365c",
   "metadata": {},
   "outputs": [],
   "source": [
    "from sklearn.svm import SVC\n",
    "from imblearn.over_sampling import SMOTE\n",
    "from imblearn.under_sampling import TomekLinks  \n",
    "from imblearn.pipeline import Pipeline as ImPipeline\n",
    "\n",
    "smote = SMOTE(random_state=42)\n",
    "tl = TomekLinks(sampling_strategy='majority')\n",
    "\n",
    "svc = SVC()\n",
    "svc_oversampled = SVC()\n",
    "svc_undersampled = SVC()\n",
    "\n",
    "svc_pipeline = Pipeline([\n",
    "    ('preprocessor', preprocessor),\n",
    "    ('regressor', svc)\n",
    "])\n",
    "\n",
    "svc_pipeline_oversampled = ImPipeline([\n",
    "    ('preprocessor', preprocessor),\n",
    "    ('smote', smote),\n",
    "    ('regressor', svc_oversampled)\n",
    "])\n",
    "\n",
    "svc_pipeline_undersampled = ImPipeline([\n",
    "    ('preprocessor', preprocessor),\n",
    "    ('tl', tl),\n",
    "    ('regressor', svc_undersampled)\n",
    "])\n",
    "\n",
    "svc_pipeline.fit(X_train, Y_train)\n",
    "svc_pipeline_oversampled.fit(X_train, Y_train)\n",
    "svc_pipeline_undersampled.fit(X_train, Y_train)\n",
    "\n",
    "y_pred = svc_pipeline.predict(X_test)\n",
    "y_pred_oversampled = svc_pipeline_oversampled.predict(X_test)\n",
    "y_pred_undersampled = svc_pipeline_undersampled.predict(X_test)"
   ]
  },
  {
   "cell_type": "markdown",
   "id": "135ab228",
   "metadata": {},
   "source": [
    "#### Evaluation"
   ]
  },
  {
   "cell_type": "code",
   "execution_count": 3,
   "id": "be9860ca",
   "metadata": {},
   "outputs": [
    {
     "name": "stdout",
     "output_type": "stream",
     "text": [
      "Original data\n",
      "              precision    recall  f1-score   support\n",
      "\n",
      "      Female       0.41      0.05      0.09       682\n",
      "        Male       0.59      0.95      0.73       970\n",
      "\n",
      "    accuracy                           0.58      1652\n",
      "   macro avg       0.50      0.50      0.41      1652\n",
      "weighted avg       0.52      0.58      0.46      1652\n",
      "\n",
      "Oversampled data\n",
      "              precision    recall  f1-score   support\n",
      "\n",
      "      Female       0.38      0.41      0.39       682\n",
      "        Male       0.56      0.52      0.54       970\n",
      "\n",
      "    accuracy                           0.47      1652\n",
      "   macro avg       0.47      0.47      0.46      1652\n",
      "weighted avg       0.48      0.47      0.48      1652\n",
      "\n",
      "Undersampled data\n",
      "              precision    recall  f1-score   support\n",
      "\n",
      "      Female       0.39      0.32      0.35       682\n",
      "        Male       0.57      0.64      0.61       970\n",
      "\n",
      "    accuracy                           0.51      1652\n",
      "   macro avg       0.48      0.48      0.48      1652\n",
      "weighted avg       0.50      0.51      0.50      1652\n",
      "\n"
     ]
    }
   ],
   "source": [
    "from sklearn.metrics import classification_report\n",
    "\n",
    "print('Original data')\n",
    "print(classification_report(Y_test, y_pred))\n",
    "print('Oversampled data')\n",
    "print(classification_report(Y_test, y_pred_oversampled))\n",
    "print('Undersampled data')\n",
    "print(classification_report(Y_test, y_pred_undersampled))"
   ]
  },
  {
   "cell_type": "markdown",
   "id": "64e54987",
   "metadata": {},
   "source": [
    "#### Same balancing for logistic regression using gradient descent"
   ]
  },
  {
   "cell_type": "code",
   "execution_count": 6,
   "id": "793bcd85",
   "metadata": {},
   "outputs": [],
   "source": [
    "from src.linear_regression.models import LogisticRegressionGradientDescent\n",
    "\n",
    "lr = LogisticRegressionGradientDescent()\n",
    "lr_oversampled = LogisticRegressionGradientDescent()\n",
    "lr_undersampled = LogisticRegressionGradientDescent()\n",
    "\n",
    "lr_pipeline = Pipeline([\n",
    "    ('preprocessor', preprocessor),\n",
    "    ('regressor', lr)\n",
    "])\n",
    "\n",
    "lr_pipeline_oversampled = ImPipeline([\n",
    "    ('preprocessor', preprocessor),\n",
    "    ('smote', smote),\n",
    "    ('regressor', lr)\n",
    "])\n",
    "\n",
    "lr_pipeline_undersampled = ImPipeline([\n",
    "    ('preprocessor', preprocessor),\n",
    "    ('tl', tl),\n",
    "    ('regressor', lr)\n",
    "])\n",
    "\n",
    "lr_pipeline.fit(X_train, Y_train)\n",
    "lr_pipeline_oversampled.fit(X_train, Y_train)\n",
    "lr_pipeline_undersampled.fit(X_train, Y_train)\n",
    "\n",
    "y_pred_lr = lr_pipeline.predict(X_test)\n",
    "y_pred_lr_oversampled = lr_pipeline_oversampled.predict(X_test)\n",
    "y_pred_lr_undersampled = lr_pipeline_undersampled.predict(X_test)"
   ]
  },
  {
   "cell_type": "markdown",
   "id": "e912a22d",
   "metadata": {},
   "source": [
    "#### Evaluation"
   ]
  },
  {
   "cell_type": "code",
   "execution_count": 7,
   "id": "c83138b4",
   "metadata": {},
   "outputs": [
    {
     "name": "stdout",
     "output_type": "stream",
     "text": [
      "Original data\n",
      "              precision    recall  f1-score   support\n",
      "\n",
      "      Female       0.37      0.19      0.25       682\n",
      "        Male       0.57      0.77      0.66       970\n",
      "\n",
      "    accuracy                           0.53      1652\n",
      "   macro avg       0.47      0.48      0.45      1652\n",
      "weighted avg       0.49      0.53      0.49      1652\n",
      "\n",
      "Oversampled data\n",
      "              precision    recall  f1-score   support\n",
      "\n",
      "      Female       0.38      0.41      0.39       682\n",
      "        Male       0.56      0.52      0.54       970\n",
      "\n",
      "    accuracy                           0.47      1652\n",
      "   macro avg       0.47      0.47      0.46      1652\n",
      "weighted avg       0.48      0.47      0.48      1652\n",
      "\n",
      "Undersampled data\n",
      "              precision    recall  f1-score   support\n",
      "\n",
      "      Female       0.39      0.32      0.35       682\n",
      "        Male       0.57      0.64      0.61       970\n",
      "\n",
      "    accuracy                           0.51      1652\n",
      "   macro avg       0.48      0.48      0.48      1652\n",
      "weighted avg       0.50      0.51      0.50      1652\n",
      "\n"
     ]
    }
   ],
   "source": [
    "print('Original data')\n",
    "print(classification_report(Y_test, y_pred_lr))\n",
    "print('Oversampled data')\n",
    "print(classification_report(Y_test, y_pred_oversampled))\n",
    "print('Undersampled data')\n",
    "print(classification_report(Y_test, y_pred_undersampled))"
   ]
  }
 ],
 "metadata": {
  "kernelspec": {
   "display_name": "projekt_msid",
   "language": "python",
   "name": "python3"
  },
  "language_info": {
   "codemirror_mode": {
    "name": "ipython",
    "version": 3
   },
   "file_extension": ".py",
   "mimetype": "text/x-python",
   "name": "python",
   "nbconvert_exporter": "python",
   "pygments_lexer": "ipython3",
   "version": "3.13.2"
  }
 },
 "nbformat": 4,
 "nbformat_minor": 5
}
